{
 "cells": [
  {
   "cell_type": "markdown",
   "metadata": {},
   "source": [
    "# HW 5 - LDA, VC-Dimensions, Shattering, SVM, Cross-Validation, and Grid Search"
   ]
  },
  {
   "cell_type": "markdown",
   "metadata": {},
   "source": [
    "1.1 - Structural Risk Minimization: \n",
    "\n",
    "__D__ - *We do not need to compute the testing error for each model to perform SRM*\n",
    "\n",
    "1.2 - Cross-Validation:\n",
    "\n",
    "__D__ - *a higher k, does not neccessarily lead to a more optimal result*"
   ]
  },
  {
   "cell_type": "markdown",
   "metadata": {},
   "source": [
    "## Q2 LDA"
   ]
  },
  {
   "cell_type": "code",
   "execution_count": 97,
   "metadata": {
    "ExecuteTime": {
     "end_time": "2018-02-05T23:19:55.743563Z",
     "start_time": "2018-02-05T23:19:55.289600Z"
    }
   },
   "outputs": [],
   "source": [
    "import numpy as np\n",
    "from numpy.linalg import inv, norm\n",
    "import matplotlib.pyplot as plt\n",
    "%config InlineBackend.figure_format = 'retina'"
   ]
  },
  {
   "cell_type": "code",
   "execution_count": 98,
   "metadata": {},
   "outputs": [],
   "source": [
    "def print_latex(mat):\n",
    "    s = r'\\begin{bmatrix}' + '\\n'\n",
    "    for i in range(mat.shape[0]):\n",
    "        for j in range(mat.shape[1]):\n",
    "            if j != mat.shape[1] - 1:\n",
    "                s += '{: .4f} & '.format(mat[i,j])\n",
    "            else:\n",
    "                s += '{: .4f} \\\\\\\\\\n'.format(mat[i,j])\n",
    "    s += r'\\end{bmatrix}'\n",
    "    print(s)"
   ]
  },
  {
   "cell_type": "code",
   "execution_count": 99,
   "metadata": {
    "ExecuteTime": {
     "end_time": "2018-02-06T01:33:07.526126Z",
     "start_time": "2018-02-06T01:33:07.352987Z"
    }
   },
   "outputs": [
    {
     "name": "stdout",
     "output_type": "stream",
     "text": [
      "(2, 100) (2, 100)\n"
     ]
    },
    {
     "data": {
      "image/png": "[encoded data removed]",
      "text/plain": [
       "<matplotlib.figure.Figure at 0x1a162128d0>"
      ]
     },
     "metadata": {
      "image/png": {
       "height": 263,
       "width": 173
      }
     },
     "output_type": "display_data"
    }
   ],
   "source": [
    "# Load the data and visualize.\n",
    "Xs = np.load('lda.npy')\n",
    "\n",
    "X_0 = np.matrix(Xs[:, 0:2]).T  # Shape: (2, 100).\n",
    "X_1 = np.matrix(Xs[:, 2:4]).T  # Shape: (2, 100).\n",
    "\n",
    "print(X_0.shape, X_1.shape)\n",
    "plt.scatter(X_0[0].tolist(), X_0[1].tolist(), color='orange')\n",
    "plt.scatter(X_1[0].tolist(), X_1[1].tolist(), color='blue')\n",
    "plt.axis('scaled')\n",
    "plt.xlabel('$x_1$')\n",
    "plt.ylabel('$x_2$')\n",
    "plt.show()"
   ]
  },
  {
   "cell_type": "code",
   "execution_count": 100,
   "metadata": {
    "ExecuteTime": {
     "end_time": "2018-02-06T01:33:35.616671Z",
     "start_time": "2018-02-06T01:33:35.607696Z"
    }
   },
   "outputs": [
    {
     "name": "stdout",
     "output_type": "stream",
     "text": [
      "() ()\n",
      "mu_0=\n",
      "2.0240272674589135,\n",
      "mu_1=\n",
      "3.9991901028324874\n"
     ]
    }
   ],
   "source": [
    "# (a) Compute mean of each class.\n",
    "mu_0 = np.mean(X_0)\n",
    "mu_1 = np.mean(X_1)\n",
    "print(mu_0.shape, mu_1.shape)\n",
    "print('mu_0=\\n{},\\nmu_1=\\n{}'.format(mu_0, mu_1))\n"
   ]
  },
  {
   "cell_type": "code",
   "execution_count": 101,
   "metadata": {
    "ExecuteTime": {
     "end_time": "2018-02-06T01:35:23.769261Z",
     "start_time": "2018-02-06T01:35:23.758510Z"
    }
   },
   "outputs": [
    {
     "name": "stdout",
     "output_type": "stream",
     "text": [
      "\\begin{bmatrix}\n",
      " 0.7063 & -0.6905 \\\\\n",
      "-0.6905 &  1.6147 \\\\\n",
      "\\end{bmatrix}\n",
      "\\begin{bmatrix}\n",
      " 0.4898 & -0.5748 \\\\\n",
      "-0.5748 &  1.6767 \\\\\n",
      "\\end{bmatrix}\n"
     ]
    }
   ],
   "source": [
    "# (b) Compute the covariance matrix for each class, Sigma_0 and Sigma_1.\n",
    "# Sigma_0, Sigma_1 = np.cov(X_0, rowvar = True), np.cov(X_1, rowvar = True)\n",
    "Sigma_0, Sigma_1 = np.cov(X_0), np.cov(X_1)\n",
    "print_latex(Sigma_0)\n",
    "print_latex(Sigma_1)"
   ]
  },
  {
   "cell_type": "markdown",
   "metadata": {},
   "source": [
    "\\begin{bmatrix}\n",
    " 0.7063 & -0.6905 \\\\\n",
    "-0.6905 &  1.6147 \\\\\n",
    "\\end{bmatrix}\n",
    "\\begin{bmatrix}\n",
    " 0.4898 & -0.5748 \\\\\n",
    "-0.5748 &  1.6767 \\\\\n",
    "\\end{bmatrix}"
   ]
  },
  {
   "cell_type": "code",
   "execution_count": 102,
   "metadata": {
    "ExecuteTime": {
     "end_time": "2018-02-06T01:35:33.286898Z",
     "start_time": "2018-02-06T01:35:33.277333Z"
    }
   },
   "outputs": [
    {
     "name": "stdout",
     "output_type": "stream",
     "text": [
      "(2, 2) (2, 2)\n",
      "w_star=\n",
      "[[-2.78310591 -1.06989259]\n",
      " [-1.06989259 -1.01138952]],\n",
      "w_tilde_star=\n",
      "[[-0.83693718 -0.32173871]\n",
      " [-0.32173871 -0.30414563]]\n"
     ]
    }
   ],
   "source": [
    "# (c) Find the optimal w_star and w_tilde_star with unit length.\n",
    "# numerator = (mu_0 - mu_1)**2 # TODO: Multiply in Weights\n",
    "# inverse_sigma = np.linalg.inv((Sigma_0 + Sigma_1)) # TODO: Mult in W\n",
    "# denominator = np.linalg.norm(np.multiply(inverse_sigma,(mu_0 - mu_1)))\n",
    "# print(denominator)\n",
    "# # w_star = np.dot(numerator,denominator)\n",
    "w_star = np.dot(inv(Sigma_0 + Sigma_1),(mu_0 - mu_1))\n",
    "w_tilde_star = (w_star/norm(w_star))\n",
    "print(w_star.shape, w_tilde_star.shape)\n",
    "print('w_star=\\n{},\\nw_tilde_star=\\n{}'.format(w_star, w_tilde_star))"
   ]
  },
  {
   "cell_type": "markdown",
   "metadata": {},
   "source": [
    "\\begin{bmatrix}\n",
    "-2.78310591 -1.06989259]\\\\\n",
    "-1.06989259 -1.01138952 \\\\\n",
    "\\end{bmatrix}\n",
    "\n",
    "\n",
    "\\begin{bmatrix}\n",
    "-0.83693718 -0.32173871 \\\\\n",
    "-0.32173871 -0.30414563 \\\\\n",
    "\\end{bmatrix}"
   ]
  },
  {
   "cell_type": "code",
   "execution_count": 7,
   "metadata": {
    "ExecuteTime": {
     "end_time": "2018-02-06T01:39:28.300289Z",
     "start_time": "2018-02-06T01:39:28.107361Z"
    }
   },
   "outputs": [
    {
     "ename": "IndentationError",
     "evalue": "expected an indented block (<ipython-input-7-b6d961eb247c>, line 7)",
     "output_type": "error",
     "traceback": [
      "\u001b[0;36m  File \u001b[0;32m\"<ipython-input-7-b6d961eb247c>\"\u001b[0;36m, line \u001b[0;32m7\u001b[0m\n\u001b[0;31m    plt.scatter(X_0[0].tolist(), X_0[1].tolist(), color='orange')\u001b[0m\n\u001b[0m      ^\u001b[0m\n\u001b[0;31mIndentationError\u001b[0m\u001b[0;31m:\u001b[0m expected an indented block\n"
     ]
    }
   ],
   "source": [
    "# (d) Compute the projection and plot the figure.\n",
    "# for i in range(len(X_0)):\n",
    "\n",
    "X_0 = [[1][1]]\n",
    "\n",
    "x_proj = np.dot(np.dot(w_tilde_star.T,x),w_tilde_star) \n",
    "\n",
    "plt.scatter(X_0[0].tolist(), X_0[1].tolist(), color='orange')\n",
    "plt.scatter(X_1[0].tolist(), X_1[1].tolist(), color='blue')\n",
    "plt.scatter(Xproj_0[0].tolist(), Xproj_0[1].tolist(), color='yellow')\n",
    "plt.scatter(Xproj_1[0].tolist(), Xproj_1[1].tolist(), color='green')\n",
    "plt.axis('scaled')\n",
    "plt.xlabel('$x_1$')\n",
    "plt.ylabel('$x_2$')\n",
    "plt.show()"
   ]
  },
  {
   "cell_type": "code",
   "execution_count": 8,
   "metadata": {
    "ExecuteTime": {
     "end_time": "2018-02-15T19:35:24.108889Z",
     "start_time": "2018-02-15T19:35:22.435547Z"
    }
   },
   "outputs": [],
   "source": [
    "import scipy.io as sio\n",
    "import matplotlib.pyplot as plt\n",
    "import numpy as np\n",
    "import seaborn as sns\n",
    "from sklearn import svm\n",
    "from sklearn.model_selection import GridSearchCV\n",
    "%config InlineBackend.figure_format = 'retina'"
   ]
  },
  {
   "cell_type": "markdown",
   "metadata": {},
   "source": [
    "## Q5 Linear SVM"
   ]
  },
  {
   "cell_type": "code",
   "execution_count": 9,
   "metadata": {
    "ExecuteTime": {
     "end_time": "2018-02-15T19:35:24.130289Z",
     "start_time": "2018-02-15T19:35:24.119855Z"
    },
    "scrolled": true
   },
   "outputs": [
    {
     "name": "stdout",
     "output_type": "stream",
     "text": [
      "(452, 278) (452, 1)\n"
     ]
    }
   ],
   "source": [
    "from sklearn.utils import shuffle\n",
    "\n",
    "# 1) Load data.\n",
    "X_and_Y = np.load('arrhythmia.npy')    # Load data from file\n",
    "X_and_Y = np.matrix(shuffle(X_and_Y))   # Shuffle the data.\n",
    "X = np.matrix(X_and_Y[:,0:278])   # First column to second to last column: Features (numerical values) \n",
    "Y = np.matrix(X_and_Y[:,279])    # Last column: Labels (0 or 1)\n",
    "print(X.shape, Y.shape)       # Check the shapes."
   ]
  },
  {
   "cell_type": "code",
   "execution_count": 10,
   "metadata": {
    "ExecuteTime": {
     "end_time": "2018-02-15T19:47:52.406844Z",
     "start_time": "2018-02-15T19:47:52.397048Z"
    }
   },
   "outputs": [
    {
     "name": "stdout",
     "output_type": "stream",
     "text": [
      "(361, 278) (91, 278) (361, 1) (91, 1)\n"
     ]
    }
   ],
   "source": [
    "from sklearn.model_selection import train_test_split\n",
    "# 2) Split the dataset into 2 parts: \n",
    "#    (a) Training set + Validation set  (80% of all data points)\n",
    "#    (b) Test set                       (20% of all data points)\n",
    "\n",
    "# Get features from test set. \n",
    "X_train_val, X_test = train_test_split(X, test_size=0.2, random_state=42) # Get features from train + val set. \n",
    "Y_train_val, Y_test = train_test_split(Y, test_size=0.2, random_state=42)# Get labels from train + val set.\n",
    "# Get labels from test set. \n",
    "# Y_train_val = Y_train_val.reshape(361,:)\n",
    "print(X_train_val.shape, X_test.shape, Y_train_val.shape, Y_test.shape)"
   ]
  },
  {
   "cell_type": "code",
   "execution_count": 117,
   "metadata": {},
   "outputs": [
    {
     "name": "stdout",
     "output_type": "stream",
     "text": [
      "Best parameters set found on test set:\n",
      "{'kernel': 'linear', 'C': 0.0001}\n",
      "0.717 (+/-0.046) for {'kernel': 'linear', 'C': 1e-05}\n",
      "0.740 (+/-0.015) for {'kernel': 'linear', 'C': 0.0001}\n",
      "0.712 (+/-0.023) for {'kernel': 'linear', 'C': 0.001}\n",
      "0.690 (+/-0.036) for {'kernel': 'linear', 'C': 0.01}\n",
      "0.637 (+/-0.058) for {'kernel': 'linear', 'C': 0.1}\n"
     ]
    }
   ],
   "source": [
    "# 3) Consider linear kernel. Perform grid search for best C \n",
    "#    with 3-fold cross-validation. You can use svm.SVC() for SVM\n",
    "#    classifier and use GridSearchCV() to perform such grid search.\n",
    "#    For more details, please refer to the sklearn documents:\n",
    "#         http://scikit-learn.org/stable/modules/svm.html\n",
    "#         http://scikit-learn.org/stable/modules/generated/sklearn.model_selection.GridSearchCV.html#sklearn.model_selection.GridSearchCV\n",
    "from sklearn.model_selection import GridSearchCV\n",
    "from sklearn.svm import SVC\n",
    "\n",
    "def svc_linear_classifier(X,y,cross_val):\n",
    "    C_list = [0.00001,0.0001,0.001,0.01,0.1]\n",
    "    y_flat = np.ravel(Y_train_val)\n",
    "    parameters = {'kernel':['linear'], 'C':C_list}\n",
    "    svc = SVC(gamma='auto')\n",
    "    classifier = GridSearchCV(SVC(),\n",
    "                                  parameters,\n",
    "                                  cv=cross_val)\n",
    "    classifier.fit(X,y_flat)\n",
    "    means = classifier.cv_results_['mean_test_score']\n",
    "    stds = classifier.cv_results_['std_test_score']\n",
    "    SVC_arr = []\n",
    "    print(\"Best parameters set found on test set:\")\n",
    "    print(classifier.best_params_)\n",
    "    for mean, std, params in zip(means, stds, classifier.cv_results_['params']):\n",
    "        print(\"%0.3f (+/-%0.03f) for %r\"\n",
    "              % (mean, std * 2, params))\n",
    "        SVC_arr.append(mean)\n",
    "    return SVC_arr, classifier\n",
    "SVC_accuracy, classifer = svc_linear_classifier(X_train_val, Y_train_val, 3)"
   ]
  },
  {
   "cell_type": "code",
   "execution_count": null,
   "metadata": {
    "ExecuteTime": {
     "end_time": "2018-02-15T22:10:19.314796Z",
     "start_time": "2018-02-15T22:10:17.833308Z"
    }
   },
   "outputs": [],
   "source": [
    "# 4) Draw heatmaps for result of grid search and find \n",
    "#    best C for validation set.\n",
    "\n",
    "def draw_heatmap_linear(acc, acc_desc, C_list):\n",
    "    plt.figure(figsize = (2,4))\n",
    "    ax = sns.heatmap(acc, annot=True, fmt='.3f', yticklabels=C_list, xticklabels=[])\n",
    "    ax.collections[0].colorbar.set_label(\"accuracy\")\n",
    "    ax.set(ylabel='$C$')\n",
    "    plt.title(acc_desc + ' w.r.t $C$')\n",
    "    sns.set_style(\"whitegrid\", {'axes.grid' : False})\n",
    "    plt.show()\n",
    "    \n",
    "#\n",
    "# You can use the draw_heatmap_linear() to draw a heatmap to visualize \n",
    "# the accuracy w.r.t. C and gamma. Some demo code is given below as hint:\n",
    "#\n",
    "# demo_acc        = np.array([[0.8],\n",
    "#                             [0.7]])\n",
    "# demo_C_list     = [0.1, 1]\n",
    "# draw_heatmap_linear(demo_acc, 'demo accuracy', demo_C_list)\n",
    "#\n",
    "\n",
    "C_list = [0.00001,0.0001,0.001,0.01,0.1]\n",
    "# accuracy = [x[1] for x in classifier.grid_scores_]\n",
    "# train_acc = np.array(accuracy).reshape(len(C_list))\n",
    "\n",
    "# Gamma Values \n",
    "accuracy_array = np.array(SVC_arr)\n",
    "train_acc = np.array([[0.8],\n",
    "                      [0.7]]) \n",
    "draw_heatmap_linear(train_acc, 'train accuracy', C_list)\n",
    "\n",
    "val_acc = np.array([[0.001],\n",
    "                    [0.01],\n",
    "                    [0.1],\n",
    "                    [1.0]])\n",
    "draw_heatmap_linear(val_acc, 'val accuracy', C_list)"
   ]
  },
  {
   "cell_type": "code",
   "execution_count": null,
   "metadata": {
    "ExecuteTime": {
     "end_time": "2018-02-15T20:05:52.255828Z",
     "start_time": "2018-02-15T20:05:51.679770Z"
    }
   },
   "outputs": [],
   "source": [
    "# 5) Use the best C to calculate the test accuracy.\n",
    "\n",
    "test_acc = __________________\n",
    "print(test_acc)"
   ]
  },
  {
   "cell_type": "markdown",
   "metadata": {},
   "source": [
    "## Question 6: Implement Grid Search and Cross-Validation"
   ]
  },
  {
   "cell_type": "code",
   "execution_count": 75,
   "metadata": {},
   "outputs": [],
   "source": [
    "import scipy.io as sio\n",
    "import matplotlib.pyplot as plt\n",
    "import numpy as np\n",
    "import seaborn as sns\n",
    "from sklearn.grid_search import ParameterGrid\n",
    "from sklearn.svm import SVC\n",
    "from sklearn.model_selection import KFold, cross_val_score\n",
    "from sklearn.utils import shuffle\n",
    "\n",
    "\n",
    "%config InlineBackend.figure_format = 'retina'"
   ]
  },
  {
   "cell_type": "code",
   "execution_count": 76,
   "metadata": {},
   "outputs": [
    {
     "name": "stdout",
     "output_type": "stream",
     "text": [
      "X:  (452, 278) Y:  (452, 1)\n",
      "(361, 278) (91, 278) (361, 1) (91, 1)\n"
     ]
    }
   ],
   "source": [
    "# 1) Load data.\n",
    "X_and_Y = np.load('arrhythmia.npy')    # Load data from file\n",
    "X_and_Y = np.matrix(shuffle(X_and_Y))   # Shuffle the data.\n",
    "X = np.matrix(X_and_Y[:,0:278])   # First column to second to last column: Features (numerical values) \n",
    "Y = np.matrix(X_and_Y[:,279])    # Last column: Labels (0 or 1)\n",
    "X_train_val, X_test, Y_train_val, Y_test = train_test_split(X, Y, test_size=0.2) # Split the Dataset\n",
    "print(\"X: \",X.shape, \"Y: \", Y.shape)       # Check the shapes.\n",
    "print(X_train_val.shape, X_test.shape, Y_train_val.shape, Y_test.shape)"
   ]
  },
  {
   "cell_type": "markdown",
   "metadata": {},
   "source": [
    "### Part 1\n",
    "    1: Divide training and validation into 4 folds\n",
    "    2: Train the SVM w/ RBF kernel for fold round. \n",
    "          Each round choose a subset as validation set & fold - 1 as the training set\n",
    "    3: Calc Trng acc and Valid_acc every round\n",
    "    4: Finally, return the avg training acc and avg valid acc over all rounds"
   ]
  },
  {
   "cell_type": "code",
   "execution_count": 92,
   "metadata": {},
   "outputs": [
    {
     "name": "stdout",
     "output_type": "stream",
     "text": [
      "(180, 278) (181, 278)\n"
     ]
    },
    {
     "ename": "ValueError",
     "evalue": "cannot reshape array of size 50318 into shape (181,)",
     "output_type": "error",
     "traceback": [
      "\u001b[0;31m---------------------------------------------------------------------------\u001b[0m",
      "\u001b[0;31mValueError\u001b[0m                                Traceback (most recent call last)",
      "\u001b[0;32m<ipython-input-92-921ecdf9449f>\u001b[0m in \u001b[0;36m<module>\u001b[0;34m()\u001b[0m\n\u001b[1;32m     24\u001b[0m     \u001b[0;31m# Return the avg training accuracy & average validation accuracy over all rounds.\u001b[0m\u001b[0;34m\u001b[0m\u001b[0;34m\u001b[0m\u001b[0m\n\u001b[1;32m     25\u001b[0m     \u001b[0;32mreturn\u001b[0m \u001b[0mSVC_arr\u001b[0m\u001b[0;34m,\u001b[0m \u001b[0mclassifier\u001b[0m\u001b[0;34m\u001b[0m\u001b[0m\n\u001b[0;32m---> 26\u001b[0;31m \u001b[0msvc_linear_classifier\u001b[0m\u001b[0;34m(\u001b[0m\u001b[0mX_train_val\u001b[0m\u001b[0;34m,\u001b[0m\u001b[0mX_test\u001b[0m\u001b[0;34m,\u001b[0m\u001b[0;36m2\u001b[0m\u001b[0;34m)\u001b[0m \u001b[0;31m# TODO: del y\u001b[0m\u001b[0;34m\u001b[0m\u001b[0m\n\u001b[0m",
      "\u001b[0;32m<ipython-input-92-921ecdf9449f>\u001b[0m in \u001b[0;36msvc_linear_classifier\u001b[0;34m(X, y, n_folds)\u001b[0m\n\u001b[1;32m      9\u001b[0m         \u001b[0mX_train\u001b[0m\u001b[0;34m,\u001b[0m \u001b[0mX_valid\u001b[0m \u001b[0;34m=\u001b[0m \u001b[0mX\u001b[0m\u001b[0;34m[\u001b[0m\u001b[0mtrain_index\u001b[0m\u001b[0;34m]\u001b[0m\u001b[0;34m,\u001b[0m \u001b[0mX\u001b[0m\u001b[0;34m[\u001b[0m\u001b[0mvalid_index\u001b[0m\u001b[0;34m]\u001b[0m\u001b[0;34m\u001b[0m\u001b[0m\n\u001b[1;32m     10\u001b[0m         \u001b[0mprint\u001b[0m\u001b[0;34m(\u001b[0m\u001b[0mX_train\u001b[0m\u001b[0;34m.\u001b[0m\u001b[0mshape\u001b[0m\u001b[0;34m,\u001b[0m \u001b[0mX_valid\u001b[0m\u001b[0;34m.\u001b[0m\u001b[0mshape\u001b[0m\u001b[0;34m)\u001b[0m\u001b[0;34m\u001b[0m\u001b[0m\n\u001b[0;32m---> 11\u001b[0;31m         \u001b[0mX_valid\u001b[0m\u001b[0;34m.\u001b[0m\u001b[0mreshape\u001b[0m\u001b[0;34m(\u001b[0m\u001b[0;36m181\u001b[0m\u001b[0;34m,\u001b[0m\u001b[0;34m)\u001b[0m \u001b[0;31m# Remove labels\u001b[0m\u001b[0;34m\u001b[0m\u001b[0m\n\u001b[0m\u001b[1;32m     12\u001b[0m         \u001b[0;31m# Each round choose one different subset as validation set\u001b[0m\u001b[0;34m\u001b[0m\u001b[0;34m\u001b[0m\u001b[0m\n\u001b[1;32m     13\u001b[0m         \u001b[0;31m# All of the other data points (all the other fold - 1 subsets) are the training set.\u001b[0m\u001b[0;34m\u001b[0m\u001b[0;34m\u001b[0m\u001b[0m\n",
      "\u001b[0;31mValueError\u001b[0m: cannot reshape array of size 50318 into shape (181,)"
     ]
    }
   ],
   "source": [
    "def svc_linear_classifier(X,y,n_folds):\n",
    "    C_list = [0.00001,0.0001,0.001,0.01,0.1]\n",
    "    SVC_arr = []\n",
    "    y_flat = np.ravel(y)\n",
    "    kf = KFold(n_splits=folds)     #Split train_val set\n",
    "    # Train the SVM with RBF kernel for fold rounds \n",
    "    classiifer = SVC(C=C_list,kernel='rbf',degree=n_folds)\n",
    "    for train_index, valid_index in kf.split(X):\n",
    "        X_train, X_valid = X[train_index], X[valid_index]\n",
    "        print(X_train.shape, X_valid.shape)\n",
    "        # Each round choose one different subset as validation set \n",
    "        # All of the other data points (all the other fold - 1 subsets) are the training set.\n",
    "        classiifer.fit(X_train, X_valid)\n",
    "        # Calculate the training accuracy and validation accuracy every round. \n",
    "        means = classifier.cv_results_['mean_test_score']\n",
    "        stds = classifier.cv_results_['std_test_score']\n",
    "\n",
    "        print(\"Best parameters set found on test set:\")\n",
    "        print(classifier.best_params_)\n",
    "        for mean, std, params in zip(means, stds, classifier.cv_results_['params']):\n",
    "            print(\"%0.3f (+/-%0.03f) for %r\"% (mean, std * 2, params))\n",
    "            SVC_arr.append(mean)\n",
    "    # Return the avg training accuracy & average validation accuracy over all rounds.\n",
    "    return SVC_arr, classifier\n",
    "svc_linear_classifier(X_train_val,X_test,2) # TODO: del y"
   ]
  },
  {
   "cell_type": "markdown",
   "metadata": {},
   "source": [
    "## Part 2"
   ]
  },
  {
   "cell_type": "code",
   "execution_count": null,
   "metadata": {},
   "outputs": [],
   "source": [
    "# GridSearch implements both fit and transform\n",
    "def grid_search(X,y,)\n",
    "for g in ParameterGrid(grid):\n",
    "    X.set_params(**g)\n",
    "    X.fit(X,y)\n",
    "    # save if best\n",
    "    if X. > best_score:\n",
    "    best_score = rf.oob_score_\n",
    "    best_grid = g"
   ]
  },
  {
   "cell_type": "code",
   "execution_count": 105,
   "metadata": {},
   "outputs": [],
   "source": [
    "from sklearn import linear_model\n",
    "lin_mod = linear_model.LinearRegression()\n",
    "\n",
    "model = lin_mod.fit(X_train_val, Y_train_val)\n",
    "predictions = lin_mod.predict(X_test)"
   ]
  },
  {
   "cell_type": "code",
   "execution_count": 116,
   "metadata": {},
   "outputs": [
    {
     "ename": "ValueError",
     "evalue": "x and y must be the same size",
     "output_type": "error",
     "traceback": [
      "\u001b[0;31m---------------------------------------------------------------------------\u001b[0m",
      "\u001b[0;31mValueError\u001b[0m                                Traceback (most recent call last)",
      "\u001b[0;32m<ipython-input-116-38d799331a20>\u001b[0m in \u001b[0;36m<module>\u001b[0;34m()\u001b[0m\n\u001b[1;32m      1\u001b[0m \u001b[0;31m# print(Y_test.shape,predictions[0:91])\u001b[0m\u001b[0;34m\u001b[0m\u001b[0;34m\u001b[0m\u001b[0m\n\u001b[1;32m      2\u001b[0m \u001b[0my_flat\u001b[0m \u001b[0;34m=\u001b[0m \u001b[0mnp\u001b[0m\u001b[0;34m.\u001b[0m\u001b[0mravel\u001b[0m\u001b[0;34m(\u001b[0m\u001b[0mY_train_val\u001b[0m\u001b[0;34m)\u001b[0m\u001b[0;34m\u001b[0m\u001b[0m\n\u001b[0;32m----> 3\u001b[0;31m \u001b[0mplt\u001b[0m\u001b[0;34m.\u001b[0m\u001b[0mscatter\u001b[0m\u001b[0;34m(\u001b[0m\u001b[0my_flat\u001b[0m\u001b[0;34m,\u001b[0m \u001b[0mpredictions\u001b[0m\u001b[0;34m[\u001b[0m\u001b[0;36m0\u001b[0m\u001b[0;34m:\u001b[0m\u001b[0;36m91\u001b[0m\u001b[0;34m]\u001b[0m\u001b[0;34m)\u001b[0m\u001b[0;34m\u001b[0m\u001b[0m\n\u001b[0m\u001b[1;32m      4\u001b[0m \u001b[0mplt\u001b[0m\u001b[0;34m.\u001b[0m\u001b[0mxlabel\u001b[0m\u001b[0;34m(\u001b[0m\u001b[0;34m\"True Values\"\u001b[0m\u001b[0;34m)\u001b[0m\u001b[0;34m\u001b[0m\u001b[0m\n\u001b[1;32m      5\u001b[0m \u001b[0mplt\u001b[0m\u001b[0;34m.\u001b[0m\u001b[0mylabel\u001b[0m\u001b[0;34m(\u001b[0m\u001b[0;34m\"Predictions\"\u001b[0m\u001b[0;34m)\u001b[0m\u001b[0;34m\u001b[0m\u001b[0m\n",
      "\u001b[0;32m~/anaconda2/envs/env36/lib/python3.5/site-packages/matplotlib/pyplot.py\u001b[0m in \u001b[0;36mscatter\u001b[0;34m(x, y, s, c, marker, cmap, norm, vmin, vmax, alpha, linewidths, verts, edgecolors, hold, data, **kwargs)\u001b[0m\n\u001b[1;32m   3376\u001b[0m                          \u001b[0mvmin\u001b[0m\u001b[0;34m=\u001b[0m\u001b[0mvmin\u001b[0m\u001b[0;34m,\u001b[0m \u001b[0mvmax\u001b[0m\u001b[0;34m=\u001b[0m\u001b[0mvmax\u001b[0m\u001b[0;34m,\u001b[0m \u001b[0malpha\u001b[0m\u001b[0;34m=\u001b[0m\u001b[0malpha\u001b[0m\u001b[0;34m,\u001b[0m\u001b[0;34m\u001b[0m\u001b[0m\n\u001b[1;32m   3377\u001b[0m                          \u001b[0mlinewidths\u001b[0m\u001b[0;34m=\u001b[0m\u001b[0mlinewidths\u001b[0m\u001b[0;34m,\u001b[0m \u001b[0mverts\u001b[0m\u001b[0;34m=\u001b[0m\u001b[0mverts\u001b[0m\u001b[0;34m,\u001b[0m\u001b[0;34m\u001b[0m\u001b[0m\n\u001b[0;32m-> 3378\u001b[0;31m                          edgecolors=edgecolors, data=data, **kwargs)\n\u001b[0m\u001b[1;32m   3379\u001b[0m     \u001b[0;32mfinally\u001b[0m\u001b[0;34m:\u001b[0m\u001b[0;34m\u001b[0m\u001b[0m\n\u001b[1;32m   3380\u001b[0m         \u001b[0max\u001b[0m\u001b[0;34m.\u001b[0m\u001b[0m_hold\u001b[0m \u001b[0;34m=\u001b[0m \u001b[0mwashold\u001b[0m\u001b[0;34m\u001b[0m\u001b[0m\n",
      "\u001b[0;32m~/anaconda2/envs/env36/lib/python3.5/site-packages/matplotlib/__init__.py\u001b[0m in \u001b[0;36minner\u001b[0;34m(ax, *args, **kwargs)\u001b[0m\n\u001b[1;32m   1715\u001b[0m                     warnings.warn(msg % (label_namer, func.__name__),\n\u001b[1;32m   1716\u001b[0m                                   RuntimeWarning, stacklevel=2)\n\u001b[0;32m-> 1717\u001b[0;31m             \u001b[0;32mreturn\u001b[0m \u001b[0mfunc\u001b[0m\u001b[0;34m(\u001b[0m\u001b[0max\u001b[0m\u001b[0;34m,\u001b[0m \u001b[0;34m*\u001b[0m\u001b[0margs\u001b[0m\u001b[0;34m,\u001b[0m \u001b[0;34m**\u001b[0m\u001b[0mkwargs\u001b[0m\u001b[0;34m)\u001b[0m\u001b[0;34m\u001b[0m\u001b[0m\n\u001b[0m\u001b[1;32m   1718\u001b[0m         \u001b[0mpre_doc\u001b[0m \u001b[0;34m=\u001b[0m \u001b[0minner\u001b[0m\u001b[0;34m.\u001b[0m\u001b[0m__doc__\u001b[0m\u001b[0;34m\u001b[0m\u001b[0m\n\u001b[1;32m   1719\u001b[0m         \u001b[0;32mif\u001b[0m \u001b[0mpre_doc\u001b[0m \u001b[0;32mis\u001b[0m \u001b[0;32mNone\u001b[0m\u001b[0;34m:\u001b[0m\u001b[0;34m\u001b[0m\u001b[0m\n",
      "\u001b[0;32m~/anaconda2/envs/env36/lib/python3.5/site-packages/matplotlib/axes/_axes.py\u001b[0m in \u001b[0;36mscatter\u001b[0;34m(self, x, y, s, c, marker, cmap, norm, vmin, vmax, alpha, linewidths, verts, edgecolors, **kwargs)\u001b[0m\n\u001b[1;32m   3953\u001b[0m         \u001b[0my\u001b[0m \u001b[0;34m=\u001b[0m \u001b[0mnp\u001b[0m\u001b[0;34m.\u001b[0m\u001b[0mma\u001b[0m\u001b[0;34m.\u001b[0m\u001b[0mravel\u001b[0m\u001b[0;34m(\u001b[0m\u001b[0my\u001b[0m\u001b[0;34m)\u001b[0m\u001b[0;34m\u001b[0m\u001b[0m\n\u001b[1;32m   3954\u001b[0m         \u001b[0;32mif\u001b[0m \u001b[0mx\u001b[0m\u001b[0;34m.\u001b[0m\u001b[0msize\u001b[0m \u001b[0;34m!=\u001b[0m \u001b[0my\u001b[0m\u001b[0;34m.\u001b[0m\u001b[0msize\u001b[0m\u001b[0;34m:\u001b[0m\u001b[0;34m\u001b[0m\u001b[0m\n\u001b[0;32m-> 3955\u001b[0;31m             \u001b[0;32mraise\u001b[0m \u001b[0mValueError\u001b[0m\u001b[0;34m(\u001b[0m\u001b[0;34m\"x and y must be the same size\"\u001b[0m\u001b[0;34m)\u001b[0m\u001b[0;34m\u001b[0m\u001b[0m\n\u001b[0m\u001b[1;32m   3956\u001b[0m \u001b[0;34m\u001b[0m\u001b[0m\n\u001b[1;32m   3957\u001b[0m         \u001b[0;32mif\u001b[0m \u001b[0ms\u001b[0m \u001b[0;32mis\u001b[0m \u001b[0;32mNone\u001b[0m\u001b[0;34m:\u001b[0m\u001b[0;34m\u001b[0m\u001b[0m\n",
      "\u001b[0;31mValueError\u001b[0m: x and y must be the same size"
     ]
    },
    {
     "data": {
      "image/png": "[encoded data removed]",
      "text/plain": [
       "<matplotlib.figure.Figure at 0x1a15ebb278>"
      ]
     },
     "metadata": {
      "image/png": {
       "height": 252,
       "width": 380
      }
     },
     "output_type": "display_data"
    }
   ],
   "source": [
    "# print(Y_test.shape,predictions[0:91])\n",
    "y_flat = np.ravel(Y_train_val)\n",
    "plt.scatter(y_flat, predictions[0:91])\n",
    "plt.xlabel(\"True Values\")\n",
    "plt.ylabel(\"Predictions\")"
   ]
  },
  {
   "cell_type": "code",
   "execution_count": null,
   "metadata": {},
   "outputs": [],
   "source": []
  }
 ],
 "metadata": {
  "kernelspec": {
   "display_name": "Python 3",
   "language": "python",
   "name": "python3"
  },
  "language_info": {
   "codemirror_mode": {
    "name": "ipython",
    "version": 3
   },
   "file_extension": ".py",
   "mimetype": "text/x-python",
   "name": "python",
   "nbconvert_exporter": "python",
   "pygments_lexer": "ipython3",
   "version": "3.5.4"
  },
  "toc": {
   "colors": {
    "hover_highlight": "#DAA520",
    "navigate_num": "#000000",
    "navigate_text": "#333333",
    "running_highlight": "#FF0000",
    "selected_highlight": "#FFD700",
    "sidebar_border": "#EEEEEE",
    "wrapper_background": "#FFFFFF"
   },
   "moveMenuLeft": true,
   "nav_menu": {
    "height": "63px",
    "width": "252px"
   },
   "navigate_menu": true,
   "number_sections": true,
   "sideBar": true,
   "threshold": 4,
   "toc_cell": false,
   "toc_section_display": "block",
   "toc_window_display": false,
   "widenNotebook": false
  }
 },
 "nbformat": 4,
 "nbformat_minor": 2
}
