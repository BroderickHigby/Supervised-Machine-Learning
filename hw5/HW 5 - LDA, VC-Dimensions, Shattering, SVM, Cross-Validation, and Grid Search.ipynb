{
 "cells": [
  {
   "cell_type": "markdown",
   "metadata": {},
   "source": [
    "## Q2 LDA"
   ]
  },
  {
   "cell_type": "code",
   "execution_count": 1,
   "metadata": {
    "ExecuteTime": {
     "end_time": "2018-02-05T23:19:55.743563Z",
     "start_time": "2018-02-05T23:19:55.289600Z"
    }
   },
   "outputs": [],
   "source": [
    "import numpy as np\n",
    "from numpy.linalg import inv\n",
    "import matplotlib.pyplot as plt\n",
    "%config InlineBackend.figure_format = 'retina'"
   ]
  },
  {
   "cell_type": "code",
   "execution_count": 2,
   "metadata": {},
   "outputs": [],
   "source": [
    "def print_latex(mat):\n",
    "    s = r'\\begin{bmatrix}' + '\\n'\n",
    "    for i in range(mat.shape[0]):\n",
    "        for j in range(mat.shape[1]):\n",
    "            if j != mat.shape[1] - 1:\n",
    "                s += '{: .4f} & '.format(mat[i,j])\n",
    "            else:\n",
    "                s += '{: .4f} \\\\\\\\\\n'.format(mat[i,j])\n",
    "    s += r'\\end{bmatrix}'\n",
    "    print(s)"
   ]
  },
  {
   "cell_type": "code",
   "execution_count": 3,
   "metadata": {
    "ExecuteTime": {
     "end_time": "2018-02-06T01:33:07.526126Z",
     "start_time": "2018-02-06T01:33:07.352987Z"
    }
   },
   "outputs": [
    {
     "name": "stdout",
     "output_type": "stream",
     "text": [
      "(2, 100) (2, 100)\n"
     ]
    },
    {
     "data": {
      "image/png": "[encoded data removed]",
      "text/plain": [
       "<matplotlib.figure.Figure at 0x10841dd68>"
      ]
     },
     "metadata": {
      "image/png": {
       "height": 263,
       "width": 173
      }
     },
     "output_type": "display_data"
    }
   ],
   "source": [
    "# Load the data and visualize.\n",
    "Xs = np.load('lda.npy')\n",
    "\n",
    "X_0 = np.matrix(Xs[:, 0:2]).T  # Shape: (2, 100).\n",
    "X_1 = np.matrix(Xs[:, 2:4]).T  # Shape: (2, 100).\n",
    "\n",
    "print(X_0.shape, X_1.shape)\n",
    "plt.scatter(X_0[0].tolist(), X_0[1].tolist(), color='orange')\n",
    "plt.scatter(X_1[0].tolist(), X_1[1].tolist(), color='blue')\n",
    "plt.axis('scaled')\n",
    "plt.xlabel('$x_1$')\n",
    "plt.ylabel('$x_2$')\n",
    "plt.show()"
   ]
  },
  {
   "cell_type": "code",
   "execution_count": 4,
   "metadata": {
    "ExecuteTime": {
     "end_time": "2018-02-06T01:33:35.616671Z",
     "start_time": "2018-02-06T01:33:35.607696Z"
    }
   },
   "outputs": [
    {
     "name": "stdout",
     "output_type": "stream",
     "text": [
      "() ()\n",
      "mu_0=\n",
      "2.0240272674589135,\n",
      "mu_1=\n",
      "3.9991901028324874\n"
     ]
    }
   ],
   "source": [
    "# (a) Compute mean of each class.\n",
    "mu_0 = np.mean(X_0)\n",
    "mu_1 = np.mean(X_1)\n",
    "print(mu_0.shape, mu_1.shape)\n",
    "print('mu_0=\\n{},\\nmu_1=\\n{}'.format(mu_0, mu_1))\n"
   ]
  },
  {
   "cell_type": "code",
   "execution_count": 5,
   "metadata": {
    "ExecuteTime": {
     "end_time": "2018-02-06T01:35:23.769261Z",
     "start_time": "2018-02-06T01:35:23.758510Z"
    }
   },
   "outputs": [
    {
     "name": "stdout",
     "output_type": "stream",
     "text": [
      "\\begin{bmatrix}\n",
      " 0.7063 & -0.6905 \\\\\n",
      "-0.6905 &  1.6147 \\\\\n",
      "\\end{bmatrix}\n",
      "\\begin{bmatrix}\n",
      " 0.4898 & -0.5748 \\\\\n",
      "-0.5748 &  1.6767 \\\\\n",
      "\\end{bmatrix}\n"
     ]
    }
   ],
   "source": [
    "# (b) Compute the covariance matrix for each class, Sigma_0 and Sigma_1.\n",
    "# Sigma_0, Sigma_1 = np.cov(X_0, rowvar = True), np.cov(X_1, rowvar = True)\n",
    "Sigma_0, Sigma_1 = np.cov(X_0), np.cov(X_1)\n",
    "print_latex(Sigma_0)\n",
    "print_latex(Sigma_1)"
   ]
  },
  {
   "cell_type": "markdown",
   "metadata": {},
   "source": [
    "\\begin{bmatrix}\n",
    " 0.7063 & -0.6905 \\\\\n",
    "-0.6905 &  1.6147 \\\\\n",
    "\\end{bmatrix}\n",
    "\\begin{bmatrix}\n",
    " 0.4898 & -0.5748 \\\\\n",
    "-0.5748 &  1.6767 \\\\\n",
    "\\end{bmatrix}"
   ]
  },
  {
   "cell_type": "code",
   "execution_count": 6,
   "metadata": {
    "ExecuteTime": {
     "end_time": "2018-02-06T01:35:33.286898Z",
     "start_time": "2018-02-06T01:35:33.277333Z"
    }
   },
   "outputs": [
    {
     "name": "stdout",
     "output_type": "stream",
     "text": [
      "3.32534623406349\n"
     ]
    },
    {
     "ename": "TypeError",
     "evalue": "object of type 'numpy.float64' has no len()",
     "output_type": "error",
     "traceback": [
      "\u001b[0;31m---------------------------------------------------------------------------\u001b[0m",
      "\u001b[0;31mTypeError\u001b[0m                                 Traceback (most recent call last)",
      "\u001b[0;32m<ipython-input-6-deeef49e96a3>\u001b[0m in \u001b[0;36m<module>\u001b[0;34m()\u001b[0m\n\u001b[1;32m      5\u001b[0m \u001b[0mprint\u001b[0m\u001b[0;34m(\u001b[0m\u001b[0mdenominator\u001b[0m\u001b[0;34m)\u001b[0m\u001b[0;34m\u001b[0m\u001b[0m\n\u001b[1;32m      6\u001b[0m \u001b[0mw_star\u001b[0m \u001b[0;34m=\u001b[0m \u001b[0mnp\u001b[0m\u001b[0;34m.\u001b[0m\u001b[0mdot\u001b[0m\u001b[0;34m(\u001b[0m\u001b[0mnumerator\u001b[0m\u001b[0;34m,\u001b[0m\u001b[0mdenominator\u001b[0m\u001b[0;34m)\u001b[0m\u001b[0;34m\u001b[0m\u001b[0m\n\u001b[0;32m----> 7\u001b[0;31m \u001b[0mw_tilde_star\u001b[0m \u001b[0;34m=\u001b[0m \u001b[0;34m(\u001b[0m\u001b[0mw_star\u001b[0m\u001b[0;34m/\u001b[0m\u001b[0mlen\u001b[0m\u001b[0;34m(\u001b[0m\u001b[0mw_star\u001b[0m\u001b[0;34m)\u001b[0m\u001b[0;34m)\u001b[0m\u001b[0;34m\u001b[0m\u001b[0m\n\u001b[0m\u001b[1;32m      8\u001b[0m \u001b[0mprint\u001b[0m\u001b[0;34m(\u001b[0m\u001b[0mw_star\u001b[0m\u001b[0;34m.\u001b[0m\u001b[0mshape\u001b[0m\u001b[0;34m,\u001b[0m \u001b[0mw_tilde_star\u001b[0m\u001b[0;34m.\u001b[0m\u001b[0mshape\u001b[0m\u001b[0;34m)\u001b[0m\u001b[0;34m\u001b[0m\u001b[0m\n\u001b[1;32m      9\u001b[0m \u001b[0mprint\u001b[0m\u001b[0;34m(\u001b[0m\u001b[0;34m'w_star=\\n{},\\nw_tilde_star=\\n{}'\u001b[0m\u001b[0;34m.\u001b[0m\u001b[0mformat\u001b[0m\u001b[0;34m(\u001b[0m\u001b[0mw_star\u001b[0m\u001b[0;34m,\u001b[0m \u001b[0mw_tilde_star\u001b[0m\u001b[0;34m)\u001b[0m\u001b[0;34m)\u001b[0m\u001b[0;34m\u001b[0m\u001b[0m\n",
      "\u001b[0;31mTypeError\u001b[0m: object of type 'numpy.float64' has no len()"
     ]
    }
   ],
   "source": [
    "# (c) Find the optimal w_star and w_tilde_star with unit length.\n",
    "numerator = (mu_0 - mu_1)**2 # TODO: Multiply in Weights\n",
    "inverse_sigma = np.linalg.inv((Sigma_0 + Sigma_1)) # TODO: Mult in W\n",
    "denominator = np.linalg.norm(np.multiply(inverse_sigma,(mu_0 - mu_1)))\n",
    "print(denominator)\n",
    "w_star = np.dot(numerator,denominator)\n",
    "w_tilde_star = (w_star/len(w_star))\n",
    "print(w_star.shape, w_tilde_star.shape)\n",
    "print('w_star=\\n{},\\nw_tilde_star=\\n{}'.format(w_star, w_tilde_star))"
   ]
  },
  {
   "cell_type": "markdown",
   "metadata": {},
   "source": [
    "\\begin{bmatrix}\n",
    "5.49708736 & 2.11321209] \\\\\n",
    "2.11321209 & 1.99765898 \\\\\n",
    "\\end{bmatrix}\n",
    "\\begin{bmatrix}\n",
    "2.74854368 & 1.05660605 \\\\\n",
    "1.05660605 & 0.99882949 \\\\\n",
    "\\end{bmatrix}"
   ]
  },
  {
   "cell_type": "code",
   "execution_count": 7,
   "metadata": {
    "ExecuteTime": {
     "end_time": "2018-02-06T01:39:28.300289Z",
     "start_time": "2018-02-06T01:39:28.107361Z"
    }
   },
   "outputs": [
    {
     "ename": "IndentationError",
     "evalue": "expected an indented block (<ipython-input-7-b6d961eb247c>, line 7)",
     "output_type": "error",
     "traceback": [
      "\u001b[0;36m  File \u001b[0;32m\"<ipython-input-7-b6d961eb247c>\"\u001b[0;36m, line \u001b[0;32m7\u001b[0m\n\u001b[0;31m    plt.scatter(X_0[0].tolist(), X_0[1].tolist(), color='orange')\u001b[0m\n\u001b[0m      ^\u001b[0m\n\u001b[0;31mIndentationError\u001b[0m\u001b[0;31m:\u001b[0m expected an indented block\n"
     ]
    }
   ],
   "source": [
    "# (d) Compute the projection and plot the figure.\n",
    "\n",
    "np.dot(w_tilde_star,)\n",
    "for i in range(len(X_0)):\n",
    "    \n",
    "\n",
    "plt.scatter(X_0[0].tolist(), X_0[1].tolist(), color='orange')\n",
    "plt.scatter(X_1[0].tolist(), X_1[1].tolist(), color='blue')\n",
    "plt.scatter(Xproj_0[0].tolist(), Xproj_0[1].tolist(), color='yellow')\n",
    "plt.scatter(Xproj_1[0].tolist(), Xproj_1[1].tolist(), color='green')\n",
    "plt.axis('scaled')\n",
    "plt.xlabel('$x_1$')\n",
    "plt.ylabel('$x_2$')\n",
    "plt.show()"
   ]
  },
  {
   "cell_type": "code",
   "execution_count": 8,
   "metadata": {
    "ExecuteTime": {
     "end_time": "2018-02-15T19:35:24.108889Z",
     "start_time": "2018-02-15T19:35:22.435547Z"
    }
   },
   "outputs": [],
   "source": [
    "import scipy.io as sio\n",
    "import matplotlib.pyplot as plt\n",
    "import numpy as np\n",
    "import seaborn as sns\n",
    "from sklearn import svm\n",
    "from sklearn.model_selection import GridSearchCV\n",
    "%config InlineBackend.figure_format = 'retina'"
   ]
  },
  {
   "cell_type": "markdown",
   "metadata": {},
   "source": [
    "## Q5 Linear SVM"
   ]
  },
  {
   "cell_type": "code",
   "execution_count": 9,
   "metadata": {
    "ExecuteTime": {
     "end_time": "2018-02-15T19:35:24.130289Z",
     "start_time": "2018-02-15T19:35:24.119855Z"
    },
    "scrolled": true
   },
   "outputs": [
    {
     "name": "stdout",
     "output_type": "stream",
     "text": [
      "(452, 278) (452, 1)\n"
     ]
    }
   ],
   "source": [
    "from sklearn.utils import shuffle\n",
    "\n",
    "# 1) Load data.\n",
    "X_and_Y = np.load('arrhythmia.npy')    # Load data from file\n",
    "X_and_Y = np.matrix(shuffle(X_and_Y))   # Shuffle the data.\n",
    "X = np.matrix(X_and_Y[:,0:278])   # First column to second to last column: Features (numerical values) \n",
    "Y = np.matrix(X_and_Y[:,279])    # Last column: Labels (0 or 1)\n",
    "print(X.shape, Y.shape)       # Check the shapes."
   ]
  },
  {
   "cell_type": "code",
   "execution_count": 10,
   "metadata": {
    "ExecuteTime": {
     "end_time": "2018-02-15T19:47:52.406844Z",
     "start_time": "2018-02-15T19:47:52.397048Z"
    }
   },
   "outputs": [
    {
     "name": "stdout",
     "output_type": "stream",
     "text": [
      "(361, 278) (91, 278) (361, 1) (91, 1)\n"
     ]
    }
   ],
   "source": [
    "from sklearn.model_selection import train_test_split\n",
    "# 2) Split the dataset into 2 parts: \n",
    "#    (a) Training set + Validation set  (80% of all data points)\n",
    "#    (b) Test set                       (20% of all data points)\n",
    "\n",
    "# Get features from test set. \n",
    "X_train_val, X_test = train_test_split(X, test_size=0.2, random_state=42) # Get features from train + val set. \n",
    "Y_train_val, Y_test = train_test_split(Y, test_size=0.2, random_state=42)# Get labels from train + val set.\n",
    "# Get labels from test set. \n",
    "# Y_train_val = Y_train_val.reshape(361,:)\n",
    "print(X_train_val.shape, X_test.shape, Y_train_val.shape, Y_test.shape)"
   ]
  },
  {
   "cell_type": "code",
   "execution_count": 11,
   "metadata": {},
   "outputs": [
    {
     "name": "stderr",
     "output_type": "stream",
     "text": [
      "/Users/brody/anaconda2/envs/env36/lib/python3.5/site-packages/sklearn/cross_validation.py:41: DeprecationWarning: This module was deprecated in version 0.18 in favor of the model_selection module into which all the refactored classes and functions are moved. Also note that the interface of the new CV iterators are different from that of this module. This module will be removed in 0.20.\n",
      "  \"This module will be removed in 0.20.\", DeprecationWarning)\n",
      "/Users/brody/anaconda2/envs/env36/lib/python3.5/site-packages/sklearn/grid_search.py:42: DeprecationWarning: This module was deprecated in version 0.18 in favor of the model_selection module into which all the refactored classes and functions are moved. This module will be removed in 0.20.\n",
      "  DeprecationWarning)\n"
     ]
    },
    {
     "data": {
      "text/plain": [
       "{'C': 0.0001, 'gamma': 0.001}"
      ]
     },
     "execution_count": 11,
     "metadata": {},
     "output_type": "execute_result"
    }
   ],
   "source": [
    "from sklearn import svm, grid_search\n",
    "def svc_param_selection(X, y, nfolds):\n",
    "    Cs = [0.00001,0.0001,0.001,0.01,0.1]\n",
    "    gammas = [0.001, 0.01, 0.1, 1] # TODO: DELETE GAMMAS \n",
    "    param_grid = {'C': Cs, 'gamma' : gammas}\n",
    "    y_flat = np.ravel(y)\n",
    "    grid_search = GridSearchCV(svm.SVC(kernel='linear'), param_grid, cv=nfolds)\n",
    "    grid_search.fit(X, y_flat)\n",
    "    return grid_search.best_params_\n",
    "svc_param_selection(X_train_val,Y_train_val,3)"
   ]
  },
  {
   "cell_type": "code",
   "execution_count": 12,
   "metadata": {},
   "outputs": [
    {
     "ename": "NameError",
     "evalue": "name 'SVC_accsvc_linear_classifier' is not defined",
     "output_type": "error",
     "traceback": [
      "\u001b[0;31m---------------------------------------------------------------------------\u001b[0m",
      "\u001b[0;31mNameError\u001b[0m                                 Traceback (most recent call last)",
      "\u001b[0;32m<ipython-input-12-50a9a6cc30e1>\u001b[0m in \u001b[0;36m<module>\u001b[0;34m()\u001b[0m\n\u001b[1;32m     27\u001b[0m         \u001b[0mSVC_arr\u001b[0m\u001b[0;34m.\u001b[0m\u001b[0mappend\u001b[0m\u001b[0;34m(\u001b[0m\u001b[0mmean\u001b[0m\u001b[0;34m)\u001b[0m\u001b[0;34m\u001b[0m\u001b[0m\n\u001b[1;32m     28\u001b[0m     \u001b[0;32mreturn\u001b[0m \u001b[0mSVC_arr\u001b[0m\u001b[0;34m,\u001b[0m \u001b[0mclassifier\u001b[0m\u001b[0;34m\u001b[0m\u001b[0m\n\u001b[0;32m---> 29\u001b[0;31m \u001b[0mSVC_accsvc_linear_classifier\u001b[0m\u001b[0;34m(\u001b[0m\u001b[0mX_train_val\u001b[0m\u001b[0;34m,\u001b[0m \u001b[0mY_train_val\u001b[0m\u001b[0;34m,\u001b[0m \u001b[0;36m3\u001b[0m\u001b[0;34m)\u001b[0m\u001b[0;34m\u001b[0m\u001b[0m\n\u001b[0m",
      "\u001b[0;31mNameError\u001b[0m: name 'SVC_accsvc_linear_classifier' is not defined"
     ]
    }
   ],
   "source": [
    "# 3) Consider linear kernel. Perform grid search for best C \n",
    "#    with 3-fold cross-validation. You can use svm.SVC() for SVM\n",
    "#    classifier and use GridSearchCV() to perform such grid search.\n",
    "#    For more details, please refer to the sklearn documents:\n",
    "#         http://scikit-learn.org/stable/modules/svm.html\n",
    "#         http://scikit-learn.org/stable/modules/generated/sklearn.model_selection.GridSearchCV.html#sklearn.model_selection.GridSearchCV\n",
    "from sklearn.model_selection import GridSearchCV\n",
    "from sklearn.svm import SVC\n",
    "\n",
    "def svc_linear_classifier(X,y,cross_val):\n",
    "    C_list = [0.00001,0.0001,0.001,0.01,0.1]\n",
    "    y_flat = np.ravel(Y_train_val)\n",
    "    parameters = {'kernel':['linear'], 'C':C_list}\n",
    "    svc = SVC(gamma='auto')\n",
    "    classifier = GridSearchCV(SVC(),\n",
    "                                  parameters,\n",
    "                                  cv=cross_val)\n",
    "    classifier.fit(X,y_flat)\n",
    "    means = classifier.cv_results_['mean_test_score']\n",
    "    stds = classifier.cv_results_['std_test_score']\n",
    "    SVC_arr = []\n",
    "    print(\"Best parameters set found on test set:\")\n",
    "    print(classifier.best_params_)\n",
    "    for mean, std, params in zip(means, stds, classifier.cv_results_['params']):\n",
    "        print(\"%0.3f (+/-%0.03f) for %r\"\n",
    "              % (mean, std * 2, params))\n",
    "        SVC_arr.append(mean)\n",
    "    return SVC_arr, classifier\n",
    "SVC_acc = svc_linear_classifier(X_train_val, Y_train_val, 3)"
   ]
  },
  {
   "cell_type": "code",
   "execution_count": null,
   "metadata": {
    "ExecuteTime": {
     "end_time": "2018-02-15T22:10:19.314796Z",
     "start_time": "2018-02-15T22:10:17.833308Z"
    }
   },
   "outputs": [],
   "source": [
    "# 4) Draw heatmaps for result of grid search and find \n",
    "#    best C for validation set.\n",
    "\n",
    "def draw_heatmap_linear(acc, acc_desc, C_list):\n",
    "    plt.figure(figsize = (2,4))\n",
    "    ax = sns.heatmap(acc, annot=True, fmt='.3f', yticklabels=C_list, xticklabels=[])\n",
    "    ax.collections[0].colorbar.set_label(\"accuracy\")\n",
    "    ax.set(ylabel='$C$')\n",
    "    plt.title(acc_desc + ' w.r.t $C$')\n",
    "    sns.set_style(\"whitegrid\", {'axes.grid' : False})\n",
    "    plt.show()\n",
    "    \n",
    "#\n",
    "# You can use the draw_heatmap_linear() to draw a heatmap to visualize \n",
    "# the accuracy w.r.t. C and gamma. Some demo code is given below as hint:\n",
    "#\n",
    "# demo_acc        = np.array([[0.8],\n",
    "#                             [0.7]])\n",
    "# demo_C_list     = [0.1, 1]\n",
    "# draw_heatmap_linear(demo_acc, 'demo accuracy', demo_C_list)\n",
    "#\n",
    "\n",
    "C_list = [0.00001,0.0001,0.001,0.01,0.1]\n",
    "# accuracy = [x[1] for x in classifier.grid_scores_]\n",
    "# train_acc = np.array(accuracy).reshape(len(C_list))\n",
    "\n",
    "# Gamma Values \n",
    "accuracy_array = np.array(SVC_arr)\n",
    "train_acc = np.array([[0.8],\n",
    "                      [0.7]]) \n",
    "draw_heatmap_linear(train_acc, 'train accuracy', C_list)\n",
    "\n",
    "val_acc = np.array([[0.001],\n",
    "                    [0.01],\n",
    "                    [0.1],\n",
    "                    [1.0]])\n",
    "draw_heatmap_linear(val_acc, 'val accuracy', C_list)"
   ]
  },
  {
   "cell_type": "code",
   "execution_count": null,
   "metadata": {
    "ExecuteTime": {
     "end_time": "2018-02-15T20:05:52.255828Z",
     "start_time": "2018-02-15T20:05:51.679770Z"
    }
   },
   "outputs": [],
   "source": [
    "# 5) Use the best C to calculate the test accuracy.\n",
    "\n",
    "test_acc = __________________\n",
    "print(test_acc)"
   ]
  },
  {
   "cell_type": "markdown",
   "metadata": {},
   "source": [
    "## Question 6: Implement Grid Search and Cross-Validation"
   ]
  },
  {
   "cell_type": "code",
   "execution_count": 75,
   "metadata": {},
   "outputs": [],
   "source": [
    "import scipy.io as sio\n",
    "import matplotlib.pyplot as plt\n",
    "import numpy as np\n",
    "import seaborn as sns\n",
    "from sklearn.grid_search import ParameterGrid\n",
    "from sklearn.svm import SVC\n",
    "\n",
    "%config InlineBackend.figure_format = 'retina'"
   ]
  },
  {
   "cell_type": "code",
   "execution_count": 76,
   "metadata": {},
   "outputs": [
    {
     "name": "stdout",
     "output_type": "stream",
     "text": [
      "X:  (452, 278) Y:  (452, 1)\n",
      "(361, 278) (91, 278) (361, 1) (91, 1)\n"
     ]
    }
   ],
   "source": [
    "from sklearn.utils import shuffle\n",
    "\n",
    "# 1) Load data.\n",
    "X_and_Y = np.load('arrhythmia.npy')    # Load data from file\n",
    "X_and_Y = np.matrix(shuffle(X_and_Y))   # Shuffle the data.\n",
    "X = np.matrix(X_and_Y[:,0:278])   # First column to second to last column: Features (numerical values) \n",
    "Y = np.matrix(X_and_Y[:,279])    # Last column: Labels (0 or 1)\n",
    "X_train_val, X_test, Y_train_val, Y_test = train_test_split(X, Y, test_size=0.2) # Split the Dataset\n",
    "print(\"X: \",X.shape, \"Y: \", Y.shape)       # Check the shapes.\n",
    "print(X_train_val.shape, X_test.shape, Y_train_val.shape, Y_test.shape)"
   ]
  },
  {
   "cell_type": "markdown",
   "metadata": {},
   "source": [
    "### Part 1\n",
    "    1: Divide training and validation into 4 folds\n",
    "    2: Train the SVM w/ RBF kernel for fold round. \n",
    "          Each round choose a subset as validation set & fold - 1 as the training set\n",
    "    3: Calc Trng acc and Valid_acc every round\n",
    "    4: Finally, return the avg training acc and avg valid acc over all rounds"
   ]
  },
  {
   "cell_type": "code",
   "execution_count": 91,
   "metadata": {},
   "outputs": [
    {
     "name": "stdout",
     "output_type": "stream",
     "text": [
      "(180, 278) (181, 278)\n"
     ]
    },
    {
     "ename": "ValueError",
     "evalue": "bad input shape (181, 278)",
     "output_type": "error",
     "traceback": [
      "\u001b[0;31m---------------------------------------------------------------------------\u001b[0m",
      "\u001b[0;31mValueError\u001b[0m                                Traceback (most recent call last)",
      "\u001b[0;32m<ipython-input-91-9cae8f0e81c5>\u001b[0m in \u001b[0;36m<module>\u001b[0;34m()\u001b[0m\n\u001b[1;32m     24\u001b[0m     \u001b[0;31m# Return the avg training accuracy & average validation accuracy over all rounds.\u001b[0m\u001b[0;34m\u001b[0m\u001b[0;34m\u001b[0m\u001b[0m\n\u001b[1;32m     25\u001b[0m     \u001b[0;32mreturn\u001b[0m \u001b[0mSVC_arr\u001b[0m\u001b[0;34m,\u001b[0m \u001b[0mclassifier\u001b[0m\u001b[0;34m\u001b[0m\u001b[0m\n\u001b[0;32m---> 26\u001b[0;31m \u001b[0msvc_linear_classifier\u001b[0m\u001b[0;34m(\u001b[0m\u001b[0mX_train_val\u001b[0m\u001b[0;34m,\u001b[0m\u001b[0mX_test\u001b[0m\u001b[0;34m,\u001b[0m\u001b[0;36m2\u001b[0m\u001b[0;34m)\u001b[0m \u001b[0;31m# TODO: del y\u001b[0m\u001b[0;34m\u001b[0m\u001b[0m\n\u001b[0m",
      "\u001b[0;32m<ipython-input-91-9cae8f0e81c5>\u001b[0m in \u001b[0;36msvc_linear_classifier\u001b[0;34m(X, y, n_folds)\u001b[0m\n\u001b[1;32m     12\u001b[0m         \u001b[0;31m# Each round choose one different subset as validation set\u001b[0m\u001b[0;34m\u001b[0m\u001b[0;34m\u001b[0m\u001b[0m\n\u001b[1;32m     13\u001b[0m         \u001b[0;31m# All of the other data points (all the other fold - 1 subsets) are the training set.\u001b[0m\u001b[0;34m\u001b[0m\u001b[0;34m\u001b[0m\u001b[0m\n\u001b[0;32m---> 14\u001b[0;31m         \u001b[0mclassiifer\u001b[0m\u001b[0;34m.\u001b[0m\u001b[0mfit\u001b[0m\u001b[0;34m(\u001b[0m\u001b[0mX_train\u001b[0m\u001b[0;34m,\u001b[0m \u001b[0mX_valid\u001b[0m\u001b[0;34m)\u001b[0m\u001b[0;34m\u001b[0m\u001b[0m\n\u001b[0m\u001b[1;32m     15\u001b[0m         \u001b[0;31m# Calculate the training accuracy and validation accuracy every round.\u001b[0m\u001b[0;34m\u001b[0m\u001b[0;34m\u001b[0m\u001b[0m\n\u001b[1;32m     16\u001b[0m         \u001b[0mmeans\u001b[0m \u001b[0;34m=\u001b[0m \u001b[0mclassifier\u001b[0m\u001b[0;34m.\u001b[0m\u001b[0mcv_results_\u001b[0m\u001b[0;34m[\u001b[0m\u001b[0;34m'mean_test_score'\u001b[0m\u001b[0;34m]\u001b[0m\u001b[0;34m\u001b[0m\u001b[0m\n",
      "\u001b[0;32m~/anaconda2/envs/env36/lib/python3.5/site-packages/sklearn/svm/base.py\u001b[0m in \u001b[0;36mfit\u001b[0;34m(self, X, y, sample_weight)\u001b[0m\n\u001b[1;32m    147\u001b[0m         \u001b[0mself\u001b[0m\u001b[0;34m.\u001b[0m\u001b[0m_sparse\u001b[0m \u001b[0;34m=\u001b[0m \u001b[0msparse\u001b[0m \u001b[0;32mand\u001b[0m \u001b[0;32mnot\u001b[0m \u001b[0mcallable\u001b[0m\u001b[0;34m(\u001b[0m\u001b[0mself\u001b[0m\u001b[0;34m.\u001b[0m\u001b[0mkernel\u001b[0m\u001b[0;34m)\u001b[0m\u001b[0;34m\u001b[0m\u001b[0m\n\u001b[1;32m    148\u001b[0m \u001b[0;34m\u001b[0m\u001b[0m\n\u001b[0;32m--> 149\u001b[0;31m         \u001b[0mX\u001b[0m\u001b[0;34m,\u001b[0m \u001b[0my\u001b[0m \u001b[0;34m=\u001b[0m \u001b[0mcheck_X_y\u001b[0m\u001b[0;34m(\u001b[0m\u001b[0mX\u001b[0m\u001b[0;34m,\u001b[0m \u001b[0my\u001b[0m\u001b[0;34m,\u001b[0m \u001b[0mdtype\u001b[0m\u001b[0;34m=\u001b[0m\u001b[0mnp\u001b[0m\u001b[0;34m.\u001b[0m\u001b[0mfloat64\u001b[0m\u001b[0;34m,\u001b[0m \u001b[0morder\u001b[0m\u001b[0;34m=\u001b[0m\u001b[0;34m'C'\u001b[0m\u001b[0;34m,\u001b[0m \u001b[0maccept_sparse\u001b[0m\u001b[0;34m=\u001b[0m\u001b[0;34m'csr'\u001b[0m\u001b[0;34m)\u001b[0m\u001b[0;34m\u001b[0m\u001b[0m\n\u001b[0m\u001b[1;32m    150\u001b[0m         \u001b[0my\u001b[0m \u001b[0;34m=\u001b[0m \u001b[0mself\u001b[0m\u001b[0;34m.\u001b[0m\u001b[0m_validate_targets\u001b[0m\u001b[0;34m(\u001b[0m\u001b[0my\u001b[0m\u001b[0;34m)\u001b[0m\u001b[0;34m\u001b[0m\u001b[0m\n\u001b[1;32m    151\u001b[0m \u001b[0;34m\u001b[0m\u001b[0m\n",
      "\u001b[0;32m~/anaconda2/envs/env36/lib/python3.5/site-packages/sklearn/utils/validation.py\u001b[0m in \u001b[0;36mcheck_X_y\u001b[0;34m(X, y, accept_sparse, dtype, order, copy, force_all_finite, ensure_2d, allow_nd, multi_output, ensure_min_samples, ensure_min_features, y_numeric, warn_on_dtype, estimator)\u001b[0m\n\u001b[1;32m    576\u001b[0m                         dtype=None)\n\u001b[1;32m    577\u001b[0m     \u001b[0;32melse\u001b[0m\u001b[0;34m:\u001b[0m\u001b[0;34m\u001b[0m\u001b[0m\n\u001b[0;32m--> 578\u001b[0;31m         \u001b[0my\u001b[0m \u001b[0;34m=\u001b[0m \u001b[0mcolumn_or_1d\u001b[0m\u001b[0;34m(\u001b[0m\u001b[0my\u001b[0m\u001b[0;34m,\u001b[0m \u001b[0mwarn\u001b[0m\u001b[0;34m=\u001b[0m\u001b[0;32mTrue\u001b[0m\u001b[0;34m)\u001b[0m\u001b[0;34m\u001b[0m\u001b[0m\n\u001b[0m\u001b[1;32m    579\u001b[0m         \u001b[0m_assert_all_finite\u001b[0m\u001b[0;34m(\u001b[0m\u001b[0my\u001b[0m\u001b[0;34m)\u001b[0m\u001b[0;34m\u001b[0m\u001b[0m\n\u001b[1;32m    580\u001b[0m     \u001b[0;32mif\u001b[0m \u001b[0my_numeric\u001b[0m \u001b[0;32mand\u001b[0m \u001b[0my\u001b[0m\u001b[0;34m.\u001b[0m\u001b[0mdtype\u001b[0m\u001b[0;34m.\u001b[0m\u001b[0mkind\u001b[0m \u001b[0;34m==\u001b[0m \u001b[0;34m'O'\u001b[0m\u001b[0;34m:\u001b[0m\u001b[0;34m\u001b[0m\u001b[0m\n",
      "\u001b[0;32m~/anaconda2/envs/env36/lib/python3.5/site-packages/sklearn/utils/validation.py\u001b[0m in \u001b[0;36mcolumn_or_1d\u001b[0;34m(y, warn)\u001b[0m\n\u001b[1;32m    612\u001b[0m         \u001b[0;32mreturn\u001b[0m \u001b[0mnp\u001b[0m\u001b[0;34m.\u001b[0m\u001b[0mravel\u001b[0m\u001b[0;34m(\u001b[0m\u001b[0my\u001b[0m\u001b[0;34m)\u001b[0m\u001b[0;34m\u001b[0m\u001b[0m\n\u001b[1;32m    613\u001b[0m \u001b[0;34m\u001b[0m\u001b[0m\n\u001b[0;32m--> 614\u001b[0;31m     \u001b[0;32mraise\u001b[0m \u001b[0mValueError\u001b[0m\u001b[0;34m(\u001b[0m\u001b[0;34m\"bad input shape {0}\"\u001b[0m\u001b[0;34m.\u001b[0m\u001b[0mformat\u001b[0m\u001b[0;34m(\u001b[0m\u001b[0mshape\u001b[0m\u001b[0;34m)\u001b[0m\u001b[0;34m)\u001b[0m\u001b[0;34m\u001b[0m\u001b[0m\n\u001b[0m\u001b[1;32m    615\u001b[0m \u001b[0;34m\u001b[0m\u001b[0m\n\u001b[1;32m    616\u001b[0m \u001b[0;34m\u001b[0m\u001b[0m\n",
      "\u001b[0;31mValueError\u001b[0m: bad input shape (181, 278)"
     ]
    }
   ],
   "source": [
    "from sklearn.model_selection import KFold\n",
    "def svc_linear_classifier(X,y,n_folds):\n",
    "    C_list = [0.00001,0.0001,0.001,0.01,0.1]\n",
    "    SVC_arr = []\n",
    "    y_flat = np.ravel(y)\n",
    "    kf = KFold(n_splits=folds)     #Split train_val set\n",
    "    # Train the SVM with RBF kernel for fold rounds \n",
    "    classiifer = SVC(C=C_list,kernel='rbf',degree=n_folds)\n",
    "    for train_index, valid_index in kf.split(X):\n",
    "        X_train, X_valid = X[train_index], X[valid_index]\n",
    "        print(X_train.shape, X_valid.shape)\n",
    "        # Each round choose one different subset as validation set \n",
    "        # All of the other data points (all the other fold - 1 subsets) are the training set.\n",
    "        classiifer.fit(X_train, X_valid)\n",
    "        # Calculate the training accuracy and validation accuracy every round. \n",
    "        means = classifier.cv_results_['mean_test_score']\n",
    "        stds = classifier.cv_results_['std_test_score']\n",
    "\n",
    "        print(\"Best parameters set found on test set:\")\n",
    "        print(classifier.best_params_)\n",
    "        for mean, std, params in zip(means, stds, classifier.cv_results_['params']):\n",
    "            print(\"%0.3f (+/-%0.03f) for %r\"% (mean, std * 2, params))\n",
    "            SVC_arr.append(mean)\n",
    "    # Return the avg training accuracy & average validation accuracy over all rounds.\n",
    "    return SVC_arr, classifier\n",
    "svc_linear_classifier(X_train_val,X_test,2) # TODO: del y"
   ]
  },
  {
   "cell_type": "code",
   "execution_count": 80,
   "metadata": {},
   "outputs": [
    {
     "ename": "AttributeError",
     "evalue": "'NoneType' object has no attribute 'shape'",
     "output_type": "error",
     "traceback": [
      "\u001b[0;31m---------------------------------------------------------------------------\u001b[0m",
      "\u001b[0;31mAttributeError\u001b[0m                            Traceback (most recent call last)",
      "\u001b[0;32m<ipython-input-80-431daf403f32>\u001b[0m in \u001b[0;36m<module>\u001b[0;34m()\u001b[0m\n\u001b[1;32m     45\u001b[0m     \u001b[0;32mreturn\u001b[0m \u001b[0mSVC_arr\u001b[0m\u001b[0;34m,\u001b[0m \u001b[0mclassifier\u001b[0m\u001b[0;34m\u001b[0m\u001b[0m\n\u001b[1;32m     46\u001b[0m \u001b[0;31m# SVC_acc, SVC_class = svc_linear_classifier(X_train_val, Y_train_val, 4)\u001b[0m\u001b[0;34m\u001b[0m\u001b[0;34m\u001b[0m\u001b[0m\n\u001b[0;32m---> 47\u001b[0;31m \u001b[0msvc_linear_classifier\u001b[0m\u001b[0;34m(\u001b[0m\u001b[0mX_train_val\u001b[0m\u001b[0;34m,\u001b[0m \u001b[0mY_train_val\u001b[0m\u001b[0;34m,\u001b[0m \u001b[0;36m4\u001b[0m\u001b[0;34m)\u001b[0m\u001b[0;34m\u001b[0m\u001b[0m\n\u001b[0m",
      "\u001b[0;32m<ipython-input-80-431daf403f32>\u001b[0m in \u001b[0;36msvc_linear_classifier\u001b[0;34m(X, y, n_folds)\u001b[0m\n\u001b[1;32m     15\u001b[0m     \u001b[0mtrain_val_Y\u001b[0m \u001b[0;34m=\u001b[0m \u001b[0msplit_dataset\u001b[0m\u001b[0;34m(\u001b[0m\u001b[0mX\u001b[0m\u001b[0;34m,\u001b[0m\u001b[0;36m3\u001b[0m\u001b[0;34m,\u001b[0m\u001b[0;36m4\u001b[0m\u001b[0;34m)\u001b[0m\u001b[0;34m\u001b[0m\u001b[0m\n\u001b[1;32m     16\u001b[0m     \u001b[0mtest_Y\u001b[0m \u001b[0;34m=\u001b[0m \u001b[0msplit_dataset\u001b[0m\u001b[0;34m(\u001b[0m\u001b[0mX\u001b[0m\u001b[0;34m,\u001b[0m\u001b[0;36m4\u001b[0m\u001b[0;34m,\u001b[0m\u001b[0;36m4\u001b[0m\u001b[0;34m)\u001b[0m\u001b[0;34m\u001b[0m\u001b[0m\n\u001b[0;32m---> 17\u001b[0;31m     \u001b[0mprint\u001b[0m\u001b[0;34m(\u001b[0m\u001b[0mtrain_val_X\u001b[0m\u001b[0;34m.\u001b[0m\u001b[0mshape\u001b[0m\u001b[0;34m,\u001b[0m \u001b[0mtest_X\u001b[0m\u001b[0;34m.\u001b[0m\u001b[0mshape\u001b[0m\u001b[0;34m,\u001b[0m \u001b[0mtrain_val_Y\u001b[0m\u001b[0;34m.\u001b[0m\u001b[0mshape\u001b[0m\u001b[0;34m,\u001b[0m \u001b[0mtest_Y\u001b[0m\u001b[0;34m.\u001b[0m\u001b[0mshape\u001b[0m\u001b[0;34m)\u001b[0m\u001b[0;34m\u001b[0m\u001b[0m\n\u001b[0m\u001b[1;32m     18\u001b[0m \u001b[0;31m#     data_subset = {k: [] for k in range(n_folds+1)}\u001b[0m\u001b[0;34m\u001b[0m\u001b[0;34m\u001b[0m\u001b[0m\n\u001b[1;32m     19\u001b[0m \u001b[0;31m# #     data_subset = [train_val_X:[],test_X:[],train_val_Y:[],test_Y:[]]\u001b[0m\u001b[0;34m\u001b[0m\u001b[0;34m\u001b[0m\u001b[0m\n",
      "\u001b[0;31mAttributeError\u001b[0m: 'NoneType' object has no attribute 'shape'"
     ]
    }
   ],
   "source": [
    "def split_dataset(X, fold, n_folds):\n",
    "#     data = len(n)\n",
    "#     return n[n*(i-1)//k:n*i//k] # i=round,k=totalrounds\n",
    "    data = len(X)\n",
    "    fold = X[data * (fold - 1) // n_folds : data * fold // n_folds]\n",
    "        \n",
    "def svc_linear_classifier(X,y,n_folds):\n",
    "    C_list = [0.00001,0.0001,0.001,0.01,0.1]\n",
    "    y_flat = np.ravel(Y_train_val)\n",
    "#     parameters = {'kernel':['rbf'], 'C':C_list}\n",
    "    svc = SVC(gamma='auto', kernel='rbf')\n",
    "    \n",
    "    train_val_X = split_dataset(X,1,4)  \n",
    "    test_X = split_dataset(X,2,4)\n",
    "    train_val_Y = split_dataset(X,3,4)\n",
    "    test_Y = split_dataset(X,4,4)\n",
    "    print(train_val_X.shape, test_X.shape, train_val_Y.shape, test_Y.shape)\n",
    "    \n",
    "#     data_subset = {k: [] for k in range(n_folds+1)}\n",
    "# #     data_subset = [train_val_X:[],test_X:[],train_val_Y:[],test_Y:[]]\n",
    "#     data = len(X)\n",
    "#     for fold in range(n_folds):\n",
    "#         # Cross-Validation\n",
    "#         split_data = X[data * (fold - 1) // n_folds : data * fold // n_folds]\n",
    "#         # TODO: append the subset to the \n",
    "#         data_subset[rounds].append(fold)\n",
    "        \n",
    "            \n",
    "#     print(len(data_subset)) \n",
    "#     print(data_subset[3][0])\n",
    "\n",
    "    \n",
    "    # Printing Prettiness\n",
    "    means = classifier.cv_results_['mean_test_score']\n",
    "    stds = classifier.cv_results_['std_test_score']\n",
    "    SVC_arr = []\n",
    "    print(\"Best parameters set found on test set:\")\n",
    "    print(classifier.best_params_)\n",
    "    for mean, std, params in zip(means, stds, classifier.cv_results_['params']):\n",
    "        print(\"%0.3f (+/-%0.03f) for %r\"\n",
    "              % (mean, std * 2, params))\n",
    "        SVC_arr.append(mean)\n",
    "    return SVC_arr, classifier\n",
    "# SVC_acc, SVC_class = svc_linear_classifier(X_train_val, Y_train_val, 4)\n",
    "svc_linear_classifier(X_train_val, Y_train_val, 4)"
   ]
  },
  {
   "cell_type": "code",
   "execution_count": 29,
   "metadata": {},
   "outputs": [
    {
     "data": {
      "text/plain": [
       "matrix([[ 50. ,   0. , 184. , ...,   0.4,   0.3,  26.4],\n",
       "        [ 34. ,   1. , 159. , ...,   0.7,   0.6,   8.8],\n",
       "        [ 60. ,   1. , 160. , ...,   0.8,   0.5,  19.6],\n",
       "        ...,\n",
       "        [ 40. ,   0. , 172. , ...,   0.8,   1.3,  38.4],\n",
       "        [ 40. ,   1. , 160. , ...,   0.4,   1. ,  14.3],\n",
       "        [ 43. ,   0. , 163. , ...,   0. ,   2.3,  14.7]])"
      ]
     },
     "execution_count": 29,
     "metadata": {},
     "output_type": "execute_result"
    }
   ],
   "source": [
    "def svc_linear_classifier(X,y,n_folds):\n",
    "    C_list = [0.00001,0.0001,0.001,0.01,0.1]\n",
    "    y_flat = np.ravel(Y_train_val)\n",
    "    parameters = {'kernel':['rbf'], 'C':C_list}\n",
    "    svc = SVC(gamma='auto', kernel='rbf')\n",
    "\n",
    "    train_val_X = split_dataset(X,1,4)  \n",
    "    test_X = split_dataset(X,2,4)\n",
    "    train_val_Y = split_dataset(X,3,4)\n",
    "    test_Y = split_dataset(X,4,4)\n",
    "    for rounds in range(n_folds):\n",
    "\n",
    "        # TODO: append the subset to the \n",
    "        data_subset[rounds].append(fold)"
   ]
  },
  {
   "cell_type": "code",
   "execution_count": null,
   "metadata": {},
   "outputs": [],
   "source": [
    "# GridSearch\n",
    "for g in ParameterGrid(grid):\n",
    "    rf.set_params(**g)\n",
    "    rf.fit(X,y)\n",
    "    # save if best\n",
    "    if rf.oob_score_ > best_score:\n",
    "    best_score = rf.oob_score_\n",
    "    best_grid = g"
   ]
  }
 ],
 "metadata": {
  "kernelspec": {
   "display_name": "Python 3",
   "language": "python",
   "name": "python3"
  },
  "language_info": {
   "codemirror_mode": {
    "name": "ipython",
    "version": 3
   },
   "file_extension": ".py",
   "mimetype": "text/x-python",
   "name": "python",
   "nbconvert_exporter": "python",
   "pygments_lexer": "ipython3",
   "version": "3.5.4"
  },
  "toc": {
   "colors": {
    "hover_highlight": "#DAA520",
    "navigate_num": "#000000",
    "navigate_text": "#333333",
    "running_highlight": "#FF0000",
    "selected_highlight": "#FFD700",
    "sidebar_border": "#EEEEEE",
    "wrapper_background": "#FFFFFF"
   },
   "moveMenuLeft": true,
   "nav_menu": {
    "height": "63px",
    "width": "252px"
   },
   "navigate_menu": true,
   "number_sections": true,
   "sideBar": true,
   "threshold": 4,
   "toc_cell": false,
   "toc_section_display": "block",
   "toc_window_display": false,
   "widenNotebook": false
  }
 },
 "nbformat": 4,
 "nbformat_minor": 2
}
