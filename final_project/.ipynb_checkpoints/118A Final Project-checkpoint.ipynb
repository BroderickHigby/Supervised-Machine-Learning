{
 "cells": [
  {
   "cell_type": "code",
   "execution_count": null,
   "metadata": {},
   "outputs": [],
   "source": [
    "%matplotlib inline \n",
    "import sklearn\n",
    "import pandas as pd\n",
    "import numpy as np\n",
    "import matplotlib.pyplot as plt\n",
    "from sklearn.tree import DecisionTreeClassifier\n",
    "from sklearn.ensemble import RandomForestClassifier, GradientBoostingClassifier\n",
    "from sklearn.model_selection import train_test_split\n",
    "from sklearn.metrics import precision_recall_fscore_support, confusion_matrix\n",
    "from sklearn.pipeline import make_pipeline\n",
    "from sklearn import metrics"
   ]
  },
  {
   "cell_type": "markdown",
   "metadata": {},
   "source": [
    "### Import UCI Datasets"
   ]
  },
  {
   "cell_type": "code",
   "execution_count": null,
   "metadata": {},
   "outputs": [],
   "source": [
    "from sklearn.datasets.california_housing import fetch_california_housing\n",
    "from sklearn.datasets import load_wine\n",
    "# The Wine classification dataset\n",
    "RED_WINE_CLASS_PATH = 'dataset/winequality-red.csv'\n",
    "WHITE_WINE_CLASS_PATH = 'dataset/winequality-white.csv'\n",
    "\n",
    "# 3 classes that correspond to some typical wine varietals\n",
    "white_wine_df = pd.read_csv(WHITE_WINE_CLASS_PATH, sep=';',quotechar='\"')\n",
    "red_wine_df = pd.read_csv(RED_WINE_CLASS_PATH, sep=';', quotechar='\"')\n",
    "white_wine_features = pd.DataFrame(data=r)\n",
    "\n",
    "RANDOM_STATE = 42\n",
    "fig_size = (10, 7)\n",
    "\n",
    "\n",
    "cal_housing = fetch_california_housing()"
   ]
  },
  {
   "cell_type": "markdown",
   "metadata": {},
   "source": [
    "1. Build model functions\n",
    "2. process datasets\n",
    "3. Build visualizations"
   ]
  },
  {
   "cell_type": "code",
   "execution_count": null,
   "metadata": {},
   "outputs": [],
   "source": [
    "from __future__ import print_function\n",
    "from sklearn.decomposition import PCA\n",
    "from sklearn.naive_bayes import GaussianNB\n",
    "\n",
    "features, targets = load_wine(return_X_y=True)\n",
    "X_train, X_test, y_train, y_test = train_test_split(features, targets,\n",
    "                                                   test_size=0.20,\n",
    "                                                   random_state=RANDOM_STATE)\n",
    "\n",
    "unscaled_clf = make_pipeline(PCA(n_components=2), GaussianNB())\n",
    "unscaled_clf.fit(X_train, y_train)\n",
    "pred_test = unscaled_clf.predict(X_test)\n",
    "\n",
    "# Fit to data, predict using pipelined scaling, GNB, & PCA\n",
    "std_clf = make_pipeline(StandardScaler(), PCA(n_components=2), GaussianNB())\n",
    "std_clf.fit(X_train, y_train)\n",
    "pred_test_std = std_clf.predict(X_test)\n",
    "\n",
    "# Prediction accuracy scaled & unscaled data\n",
    "print('{:.2%}\\n'.format(metrics.accuracy_score(y_test, pred_test_std)))\n",
    "\n",
    "# Extract PCA from pipeline\n",
    "pca=unscaled_clf.named_steps['pca']\n",
    "pca_std = std_clf.named_steps['pca']\n",
    "# show 1st PC's\n",
    "print('\\nPC 1 w/o scaling:\\n', pca.component_[0])\n",
    "print('\\nPC 1 w/ scaling:\\n', pca_std.component_[0])\n",
    "\n",
    "# Use PCA w/o and w/ scale on X_train & data \n",
    "X_train_transformed = pca.transform(X_train)\n",
    "scaler = std_clf.named_steps['standardscaler']\n",
    "X_train_std_transformed = pcas_std.transform(scaler.transform(X_train)\n",
    "\n",
    "for l, c, m in zip(range(0,3), ('blue', 'red', 'green'), ('^', 's', 'o'))\n",
    "    ax1.scatter(X_train_transformed[y_train == l, 0],\n",
    "                X_train_transformed[y_train == l, 1],\n",
    "                color=c,\n",
    "                label='class %s' % l,\n",
    "                alpha = 0.5,\n",
    "                marker=m\n",
    "                )\n",
    "\n",
    "for l, c, m in zip(range(0,3), ('blue', 'red', 'green'), ('^', 's', 'o'))\n",
    "        ax2.scatter(X_train_std_transformed[y_train == l, 0],\n",
    "                    X_train_std_transformed[y_train == l, 1],\n",
    "                    color=c,\n",
    "                    label='class %s' % l,\n",
    "                    alpha=0.5,\n",
    "                    marker=m\n",
    "                    )\n",
    "ax1.set_title('Training dataset after PCA')\n",
    "ax2.set_title('Std training dataset after PCA')\n",
    "    \n",
    "for ax in (ax1, ax2):\n",
    "    ax.set_xlabel('1st principal component')\n",
    "    ax.set_ylabel('2nd principal component')\n",
    "    ax.legend(loc='upper right')\n",
    "    ax.grid()\n",
    "\n",
    "plt.tight_layout()\n",
    "plt.show()\n"
   ]
  },
  {
   "cell_type": "code",
   "execution_count": null,
   "metadata": {},
   "outputs": [],
   "source": [
    "for l, c, m in zip(range(0,3), ('blue', 'red', 'green'), ('^', 's', 'o'))\n",
    "    ax1.scatter(X_train_transformed[y_train == l, 0],\n",
    "                X_train_transformed[y_train == l, 1],\n",
    "                color=c,\n",
    "                label='class %s' % l,\n",
    "                alpha = 0.5,\n",
    "                marker=m\n",
    "                )\n",
    "\n",
    "for l, c, m in zip(range(0,3), ('blue', 'red', 'green'), ('^', 's', 'o'))\n",
    "        ax2.scatter(X_train_std_transformed[y_train == l, 0],\n",
    "                    X_train_std_transformed[y_train == l, 1],\n",
    "                    color=c,\n",
    "                    label='class %s' % l,\n",
    "                    alpha=0.5,\n",
    "                    marker=m\n",
    "                    )\n",
    "ax1.set_title('Training dataset after PCA')\n",
    "ax2.set_title('Std training dataset after PCA')\n",
    "    \n",
    "for ax in (ax1, ax2):\n",
    "    ax.set_xlabel('1st principal component')\n",
    "    ax.set_ylabel('2nd principal component')\n",
    "    ax.legend(loc='upper right')\n",
    "    ax.grid()\n",
    "\n",
    "plt.tight_layout()\n",
    "plt.show()"
   ]
  },
  {
   "cell_type": "code",
   "execution_count": null,
   "metadata": {},
   "outputs": [],
   "source": []
  }
 ],
 "metadata": {
  "kernelspec": {
   "display_name": "Python 3.6",
   "language": "python",
   "name": "python36"
  },
  "language_info": {
   "codemirror_mode": {
    "name": "ipython",
    "version": 3
   },
   "file_extension": ".py",
   "mimetype": "text/x-python",
   "name": "python",
   "nbconvert_exporter": "python",
   "pygments_lexer": "ipython3",
   "version": "3.6.6"
  }
 },
 "nbformat": 4,
 "nbformat_minor": 2
}
