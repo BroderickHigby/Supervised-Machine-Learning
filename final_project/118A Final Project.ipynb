{
 "cells": [
  {
   "cell_type": "markdown",
   "metadata": {},
   "source": [
    "# 118A Final Project\n",
    "- Test 3 datasets on 3 classifiers\n",
    "- perform 3 different types of cross-validation on your datasets\n",
    "- use three different train test splits\n",
    "- use the parameters in the paper to achieve similar results (you can use one metric like classification accuracy)\n",
    "- report cross-validated classification results w/ corresponding learned hyperparameters\n",
    "- 3 trials (train,validation,test) * 3 classifiers * 3 datasets * 3 partitions (20/80,50/50,80/20)\n",
    "\n",
    "\n",
    "1. Build model functions\n",
    "2. process datasets\n",
    "3. Build visualizations"
   ]
  },
  {
   "cell_type": "code",
   "execution_count": 1,
   "metadata": {},
   "outputs": [],
   "source": [
    "%matplotlib inline \n",
    "import sklearn\n",
    "import pandas as pd\n",
    "import numpy as np\n",
    "import matplotlib.pyplot as plt\n",
    "from sklearn.naive_bayes import GaussianNB\n",
    "from sklearn.linear_model import LogisticRegression\n",
    "from sklearn.tree import DecisionTreeClassifier\n",
    "from sklearn.ensemble import RandomForestClassifier\n",
    "from sklearn.model_selection import train_test_split\n",
    "from sklearn.metrics import precision_recall_fscore_support, confusion_matrix, accuracy_score\n",
    "from sklearn.preprocessing import StandardScaler\n",
    "from sklearn.pipeline import make_pipeline, FeatureUnion\n",
    "from sklearn.neural_network import MLPClassifier\n",
    "from sklearn import metrics, preprocessing, utils, svm\n",
    "from sklearn.model_selection import GridSearchCV, cross_val_score, validation_curve"
   ]
  },
  {
   "cell_type": "code",
   "execution_count": 7,
   "metadata": {},
   "outputs": [],
   "source": [
    "def dataset_eval(X, y):\n",
    "    #RandomForest with 1024 trees, and varied feature set considered at each split\n",
    "    rnd_clf = RandomForestClassifier(n_estimators=1024,random_state=0) \n",
    "    dt_clf = DecisionTreeClassifier()\n",
    "    gnb_clf = GaussianNB()\n",
    "    \n",
    "    dataset_split_list = [0.2,0.5,0.8]\n",
    "    for split in dataset_split_list:\n",
    "        X_train_val, X_test, y_train_val, y_test = train_test_split(X,y,test_size=split,random_state=42)                           \n",
    "        print(\"Dataset Split Size: \",split,'\\n',X_train_val.shape, X_test.shape, y_train_val.shape, y_test.shape)\n",
    "        for clf in (gnb_clf,rnd_clf,dt_clf):\n",
    "            clf.fit(X_train_val,y_train_val)\n",
    "            cv_score = cross_val_score(clf,X_train_val,y_train_val, cv=5)\n",
    "            y_pred = clf.predict(X_test)\n",
    "            print(clf.__class__.__name__,'\\n', accuracy_score(y_test,y_pred))\n",
    "            print(\"Cross Val Error: \",'\\n',cv_score)\n",
    "    return print(\"Finished Evaluating\")"
   ]
  },
  {
   "cell_type": "code",
   "execution_count": 8,
   "metadata": {},
   "outputs": [],
   "source": [
    "def load_df(df):\n",
    "    lab_enc = preprocessing.LabelEncoder()\n",
    "    dataset = adult_df.apply(lab_enc.fit_transform)\n",
    "    data = `dataset.values\n",
    "    return data"
   ]
  },
  {
   "cell_type": "markdown",
   "metadata": {},
   "source": [
    "# Adult Dataset"
   ]
  },
  {
   "cell_type": "code",
   "execution_count": 9,
   "metadata": {},
   "outputs": [
    {
     "name": "stdout",
     "output_type": "stream",
     "text": [
      "Dataset Split Size:  0.2 \n",
      " (26048, 14) (6512, 14) (26048,) (6512,)\n",
      "GaussianNB \n",
      " 0.8227886977886978\n",
      "Cross Val Error:  \n",
      " [0.8244099  0.82303263 0.8218468  0.81531964 0.82127088]\n",
      "RandomForestClassifier \n",
      " 0.8558046683046683\n",
      "Cross Val Error:  \n",
      " [0.85933602 0.86065259 0.85601843 0.85429065 0.85928201]\n",
      "DecisionTreeClassifier \n",
      " 0.804514742014742\n",
      "Cross Val Error:  \n",
      " [0.8019574  0.81880998 0.81493569 0.8078326  0.8093684 ]\n",
      "Dataset Split Size:  0.5 \n",
      " (16280, 14) (16280, 14) (16280,) (16280,)\n",
      "GaussianNB \n",
      " 0.8235872235872236\n",
      "Cross Val Error:  \n",
      " [0.81854467 0.82432432 0.81449631 0.81695332 0.82457757]\n",
      "RandomForestClassifier \n",
      " 0.8597051597051597\n",
      "Cross Val Error:  \n",
      " [0.85262512 0.85165848 0.85718673 0.85380835 0.86021505]\n",
      "DecisionTreeClassifier \n",
      " 0.8148034398034398\n",
      "Cross Val Error:  \n",
      " [0.801965   0.81511057 0.81019656 0.80405405 0.81044547]\n",
      "Dataset Split Size:  0.8 \n",
      " (6512, 14) (26048, 14) (6512,) (26048,)\n",
      "GaussianNB \n",
      " 0.819794226044226\n",
      "Cross Val Error:  \n",
      " [0.82118189 0.80276285 0.82949309 0.81490015 0.83486943]\n",
      "RandomForestClassifier \n",
      " 0.851389742014742\n",
      "Cross Val Error:  \n",
      " [0.85495012 0.83346124 0.8609831  0.85253456 0.86789555]\n",
      "DecisionTreeClassifier \n",
      " 0.8083154176904177\n",
      "Cross Val Error:  \n",
      " [0.80583269 0.80966999 0.81643625 0.81029186 0.80261137]\n",
      "Finished Evaluating\n"
     ]
    }
   ],
   "source": [
    "adult_df = pd.read_csv('dataset/adult.data.csv')\n",
    "data = load_df(adult_df)\n",
    "# label data and split them\n",
    "X = data[:, 0:14]\n",
    "y = data[:, 14]\n",
    "dataset_eval(X,y)"
   ]
  },
  {
   "cell_type": "markdown",
   "metadata": {},
   "source": [
    "# Wine Dataset"
   ]
  },
  {
   "cell_type": "code",
   "execution_count": 10,
   "metadata": {},
   "outputs": [
    {
     "name": "stdout",
     "output_type": "stream",
     "text": [
      "Dataset Split Size:  0.2 \n",
      " (142, 13) (36, 13) (142,) (36,)\n",
      "GaussianNB \n",
      " 1.0\n",
      "Cross Val Error:  \n",
      " [1.         0.96551724 0.96428571 0.89285714 1.        ]\n",
      "RandomForestClassifier \n",
      " 1.0\n",
      "Cross Val Error:  \n",
      " [1.         0.96551724 0.92857143 0.96428571 1.        ]\n",
      "DecisionTreeClassifier \n",
      " 0.9444444444444444\n",
      "Cross Val Error:  \n",
      " [0.93103448 0.93103448 0.89285714 0.92857143 0.89285714]\n",
      "Dataset Split Size:  0.5 \n",
      " (89, 13) (89, 13) (89,) (89,)\n",
      "GaussianNB \n",
      " 0.9887640449438202\n",
      "Cross Val Error:  \n",
      " [0.9        1.         0.88235294 0.94117647 1.        ]\n",
      "RandomForestClassifier \n",
      " 0.9775280898876404\n",
      "Cross Val Error:  \n",
      " [0.95       1.         0.88235294 1.         1.        ]\n",
      "DecisionTreeClassifier \n",
      " 0.9101123595505618\n",
      "Cross Val Error:  \n",
      " [0.95       0.94444444 0.94117647 1.         0.88235294]\n",
      "Dataset Split Size:  0.8 \n",
      " (35, 13) (143, 13) (35,) (143,)\n",
      "GaussianNB \n",
      " 0.9440559440559441\n",
      "Cross Val Error:  \n",
      " [1.         0.85714286 0.85714286 0.85714286 1.        ]\n",
      "RandomForestClassifier \n",
      " 0.951048951048951\n",
      "Cross Val Error:  \n",
      " [1. 1. 1. 1. 1.]\n",
      "DecisionTreeClassifier \n",
      " 0.8951048951048951\n",
      "Cross Val Error:  \n",
      " [0.875      0.57142857 0.71428571 0.71428571 0.83333333]\n",
      "Finished Evaluating\n"
     ]
    }
   ],
   "source": [
    "from sklearn.datasets import load_wine\n",
    "features, targets = load_wine(return_X_y=True)\n",
    "dataset_eval(features,targets)"
   ]
  },
  {
   "cell_type": "markdown",
   "metadata": {},
   "source": [
    "# Wine Classification Data Set"
   ]
  },
  {
   "cell_type": "code",
   "execution_count": 12,
   "metadata": {},
   "outputs": [
    {
     "name": "stdout",
     "output_type": "stream",
     "text": [
      "Dataset Split Size:  0.2 \n",
      " (26048, 11) (6512, 11) (26048,) (6512,)\n"
     ]
    },
    {
     "name": "stderr",
     "output_type": "stream",
     "text": [
      "/Users/brody/anaconda2/envs/env36/lib/python3.5/site-packages/sklearn/model_selection/_split.py:605: Warning: The least populated class in y has only 1 members, which is too few. The minimum number of members in any class cannot be less than n_splits=5.\n",
      "  % (min_groups, self.n_splits)), Warning)\n"
     ]
    },
    {
     "name": "stdout",
     "output_type": "stream",
     "text": [
      "GaussianNB \n",
      " 0.15202702702702703\n",
      "Cross Val Error:  \n",
      " [0.16073129 0.1606049  0.14669739 0.13627602 0.14178095]\n"
     ]
    },
    {
     "name": "stderr",
     "output_type": "stream",
     "text": [
      "/Users/brody/anaconda2/envs/env36/lib/python3.5/site-packages/sklearn/model_selection/_split.py:605: Warning: The least populated class in y has only 1 members, which is too few. The minimum number of members in any class cannot be less than n_splits=5.\n",
      "  % (min_groups, self.n_splits)), Warning)\n"
     ]
    },
    {
     "name": "stdout",
     "output_type": "stream",
     "text": [
      "RandomForestClassifier \n",
      " 0.9508599508599509\n",
      "Cross Val Error:  \n",
      " [0.94477242 0.94946401 0.95142089 0.95508867 0.95711802]\n"
     ]
    },
    {
     "name": "stderr",
     "output_type": "stream",
     "text": [
      "/Users/brody/anaconda2/envs/env36/lib/python3.5/site-packages/sklearn/model_selection/_split.py:605: Warning: The least populated class in y has only 1 members, which is too few. The minimum number of members in any class cannot be less than n_splits=5.\n",
      "  % (min_groups, self.n_splits)), Warning)\n"
     ]
    },
    {
     "name": "stdout",
     "output_type": "stream",
     "text": [
      "DecisionTreeClassifier \n",
      " 0.8948095823095823\n",
      "Cross Val Error:  \n",
      " [0.89259189 0.90026799 0.89458525 0.90246723 0.90361213]\n",
      "Dataset Split Size:  0.5 \n",
      " (16280, 11) (16280, 11) (16280,) (16280,)\n"
     ]
    },
    {
     "name": "stderr",
     "output_type": "stream",
     "text": [
      "/Users/brody/anaconda2/envs/env36/lib/python3.5/site-packages/sklearn/model_selection/_split.py:605: Warning: The least populated class in y has only 1 members, which is too few. The minimum number of members in any class cannot be less than n_splits=5.\n",
      "  % (min_groups, self.n_splits)), Warning)\n"
     ]
    },
    {
     "name": "stdout",
     "output_type": "stream",
     "text": [
      "GaussianNB \n",
      " 0.14975429975429974\n",
      "Cross Val Error:  \n",
      " [0.14732685 0.16009777 0.14281317 0.11828289 0.14776952]\n"
     ]
    },
    {
     "name": "stderr",
     "output_type": "stream",
     "text": [
      "/Users/brody/anaconda2/envs/env36/lib/python3.5/site-packages/sklearn/model_selection/_split.py:605: Warning: The least populated class in y has only 1 members, which is too few. The minimum number of members in any class cannot be less than n_splits=5.\n",
      "  % (min_groups, self.n_splits)), Warning)\n"
     ]
    },
    {
     "name": "stdout",
     "output_type": "stream",
     "text": [
      "RandomForestClassifier \n",
      " 0.9523955773955773\n",
      "Cross Val Error:  \n",
      " [0.94137303 0.94592117 0.95321637 0.95676343 0.9594176 ]\n"
     ]
    },
    {
     "name": "stderr",
     "output_type": "stream",
     "text": [
      "/Users/brody/anaconda2/envs/env36/lib/python3.5/site-packages/sklearn/model_selection/_split.py:605: Warning: The least populated class in y has only 1 members, which is too few. The minimum number of members in any class cannot be less than n_splits=5.\n",
      "  % (min_groups, self.n_splits)), Warning)\n"
     ]
    },
    {
     "name": "stdout",
     "output_type": "stream",
     "text": [
      "DecisionTreeClassifier \n",
      " 0.9017199017199017\n",
      "Cross Val Error:  \n",
      " [0.88851762 0.88573174 0.89843029 0.89376158 0.89931846]\n",
      "Dataset Split Size:  0.8 \n",
      " (6512, 11) (26048, 11) (6512,) (26048,)\n"
     ]
    },
    {
     "name": "stderr",
     "output_type": "stream",
     "text": [
      "/Users/brody/anaconda2/envs/env36/lib/python3.5/site-packages/sklearn/model_selection/_split.py:605: Warning: The least populated class in y has only 1 members, which is too few. The minimum number of members in any class cannot be less than n_splits=5.\n",
      "  % (min_groups, self.n_splits)), Warning)\n"
     ]
    },
    {
     "name": "stdout",
     "output_type": "stream",
     "text": [
      "GaussianNB \n",
      " 0.19037929975429976\n",
      "Cross Val Error:  \n",
      " [0.22230539 0.23165138 0.2147806  0.21550388 0.20172009]\n"
     ]
    },
    {
     "name": "stderr",
     "output_type": "stream",
     "text": [
      "/Users/brody/anaconda2/envs/env36/lib/python3.5/site-packages/sklearn/model_selection/_split.py:605: Warning: The least populated class in y has only 1 members, which is too few. The minimum number of members in any class cannot be less than n_splits=5.\n",
      "  % (min_groups, self.n_splits)), Warning)\n"
     ]
    },
    {
     "name": "stdout",
     "output_type": "stream",
     "text": [
      "RandomForestClassifier \n",
      " 0.9526259213759214\n",
      "Cross Val Error:  \n",
      " [0.92739521 0.94571865 0.95150115 0.96046512 0.96637998]\n",
      "DecisionTreeClassifier \n",
      " 0.8899723587223587\n",
      "Cross Val Error:  \n",
      " [0.88023952 0.88685015 0.89376443 0.9        0.90070367]\n",
      "Finished Evaluating\n"
     ]
    },
    {
     "name": "stderr",
     "output_type": "stream",
     "text": [
      "/Users/brody/anaconda2/envs/env36/lib/python3.5/site-packages/sklearn/model_selection/_split.py:605: Warning: The least populated class in y has only 1 members, which is too few. The minimum number of members in any class cannot be less than n_splits=5.\n",
      "  % (min_groups, self.n_splits)), Warning)\n"
     ]
    }
   ],
   "source": [
    "# The Wine classification dataset\n",
    "# 3 classes that correspond to some typical wine varietals\n",
    "white_wine_df = pd.read_csv('dataset/winequality-white.csv', sep=';',quotechar='\"')\n",
    "red_wine_df = pd.read_csv('dataset/winequality-red.csv', sep=';', quotechar='\"')\n",
    "red_wine_df.shape\n",
    "red_wine_df.append(white_wine_df)\n",
    "red_wine_df.shape\n",
    "data = load_df(red_wine_df)\n",
    "X = data[:, 0:11]\n",
    "y= data[:, 11]\n",
    "dataset_eval(X, y)"
   ]
  },
  {
   "cell_type": "markdown",
   "metadata": {},
   "source": [
    "# Letter Recognition Data Set"
   ]
  },
  {
   "cell_type": "code",
   "execution_count": 15,
   "metadata": {},
   "outputs": [
    {
     "name": "stdout",
     "output_type": "stream",
     "text": [
      "(32560, 15)\n",
      "(32560, 14) (32560,)\n",
      "Dataset Split Size:  0.2 \n",
      " (26048, 14) (6512, 14) (26048,) (6512,)\n"
     ]
    },
    {
     "name": "stderr",
     "output_type": "stream",
     "text": [
      "/Users/brody/anaconda2/envs/env36/lib/python3.5/site-packages/sklearn/model_selection/_split.py:605: Warning: The least populated class in y has only 1 members, which is too few. The minimum number of members in any class cannot be less than n_splits=5.\n",
      "  % (min_groups, self.n_splits)), Warning)\n"
     ]
    },
    {
     "name": "stdout",
     "output_type": "stream",
     "text": [
      "GaussianNB \n",
      " 0.03163390663390663\n",
      "Cross Val Error:  \n",
      " [0.03758108 0.03463452 0.03342297 0.03139445 0.01871864]\n"
     ]
    },
    {
     "name": "stderr",
     "output_type": "stream",
     "text": [
      "/Users/brody/anaconda2/envs/env36/lib/python3.5/site-packages/sklearn/model_selection/_split.py:605: Warning: The least populated class in y has only 1 members, which is too few. The minimum number of members in any class cannot be less than n_splits=5.\n",
      "  % (min_groups, self.n_splits)), Warning)\n"
     ]
    },
    {
     "name": "stdout",
     "output_type": "stream",
     "text": [
      "RandomForestClassifier \n",
      " 0.056511056511056514\n",
      "Cross Val Error:  \n",
      " [0.05455933 0.06027555 0.05839416 0.05874422 0.055577  ]\n"
     ]
    },
    {
     "name": "stderr",
     "output_type": "stream",
     "text": [
      "/Users/brody/anaconda2/envs/env36/lib/python3.5/site-packages/sklearn/model_selection/_split.py:605: Warning: The least populated class in y has only 1 members, which is too few. The minimum number of members in any class cannot be less than n_splits=5.\n",
      "  % (min_groups, self.n_splits)), Warning)\n"
     ]
    },
    {
     "name": "stdout",
     "output_type": "stream",
     "text": [
      "DecisionTreeClassifier \n",
      " 0.048525798525798525\n",
      "Cross Val Error:  \n",
      " [0.04921786 0.05472637 0.05474453 0.05546995 0.05306831]\n",
      "Dataset Split Size:  0.5 \n",
      " (16280, 14) (16280, 14) (16280,) (16280,)\n"
     ]
    },
    {
     "name": "stderr",
     "output_type": "stream",
     "text": [
      "/Users/brody/anaconda2/envs/env36/lib/python3.5/site-packages/sklearn/model_selection/_split.py:605: Warning: The least populated class in y has only 2 members, which is too few. The minimum number of members in any class cannot be less than n_splits=5.\n",
      "  % (min_groups, self.n_splits)), Warning)\n"
     ]
    },
    {
     "name": "stdout",
     "output_type": "stream",
     "text": [
      "GaussianNB \n",
      " 0.03396805896805897\n",
      "Cross Val Error:  \n",
      " [0.03772437 0.03147922 0.0298278  0.02809509 0.02105263]\n"
     ]
    },
    {
     "name": "stderr",
     "output_type": "stream",
     "text": [
      "/Users/brody/anaconda2/envs/env36/lib/python3.5/site-packages/sklearn/model_selection/_split.py:605: Warning: The least populated class in y has only 2 members, which is too few. The minimum number of members in any class cannot be less than n_splits=5.\n",
      "  % (min_groups, self.n_splits)), Warning)\n"
     ]
    },
    {
     "name": "stdout",
     "output_type": "stream",
     "text": [
      "RandomForestClassifier \n",
      " 0.05718673218673219\n",
      "Cross Val Error:  \n",
      " [0.05202312 0.05745721 0.06119311 0.0521766  0.06006192]\n"
     ]
    },
    {
     "name": "stderr",
     "output_type": "stream",
     "text": [
      "/Users/brody/anaconda2/envs/env36/lib/python3.5/site-packages/sklearn/model_selection/_split.py:605: Warning: The least populated class in y has only 2 members, which is too few. The minimum number of members in any class cannot be less than n_splits=5.\n",
      "  % (min_groups, self.n_splits)), Warning)\n"
     ]
    },
    {
     "name": "stdout",
     "output_type": "stream",
     "text": [
      "DecisionTreeClassifier \n",
      " 0.051597051597051594\n",
      "Cross Val Error:  \n",
      " [0.05019775 0.05103912 0.05565806 0.05001544 0.05139319]\n",
      "Dataset Split Size:  0.8 \n",
      " (6512, 14) (26048, 14) (6512,) (26048,)\n"
     ]
    },
    {
     "name": "stderr",
     "output_type": "stream",
     "text": [
      "/Users/brody/anaconda2/envs/env36/lib/python3.5/site-packages/sklearn/model_selection/_split.py:605: Warning: The least populated class in y has only 2 members, which is too few. The minimum number of members in any class cannot be less than n_splits=5.\n",
      "  % (min_groups, self.n_splits)), Warning)\n"
     ]
    },
    {
     "name": "stdout",
     "output_type": "stream",
     "text": [
      "GaussianNB \n",
      " 0.02671990171990172\n",
      "Cross Val Error:  \n",
      " [0.01651652 0.02045455 0.02617398 0.02950311 0.02278083]\n"
     ]
    },
    {
     "name": "stderr",
     "output_type": "stream",
     "text": [
      "/Users/brody/anaconda2/envs/env36/lib/python3.5/site-packages/sklearn/model_selection/_split.py:605: Warning: The least populated class in y has only 2 members, which is too few. The minimum number of members in any class cannot be less than n_splits=5.\n",
      "  % (min_groups, self.n_splits)), Warning)\n"
     ]
    },
    {
     "name": "stdout",
     "output_type": "stream",
     "text": [
      "RandomForestClassifier \n",
      " 0.055781633906633904\n",
      "Cross Val Error:  \n",
      " [0.05855856 0.05454545 0.05003849 0.05900621 0.06048704]\n"
     ]
    },
    {
     "name": "stderr",
     "output_type": "stream",
     "text": [
      "/Users/brody/anaconda2/envs/env36/lib/python3.5/site-packages/sklearn/model_selection/_split.py:605: Warning: The least populated class in y has only 2 members, which is too few. The minimum number of members in any class cannot be less than n_splits=5.\n",
      "  % (min_groups, self.n_splits)), Warning)\n"
     ]
    },
    {
     "name": "stdout",
     "output_type": "stream",
     "text": [
      "DecisionTreeClassifier \n",
      " 0.04990786240786241\n",
      "Cross Val Error:  \n",
      " [0.05405405 0.04090909 0.04849885 0.04658385 0.05891595]\n",
      "Finished Evaluating\n"
     ]
    }
   ],
   "source": [
    "letter_df = pd.read_csv('dataset/letter-recognition.data.csv')\n",
    "data = load_df(letter_df)\n",
    "print(data.shape)\n",
    "X = data[:,1:17]\n",
    "y = data[:,0]\n",
    "print(X.shape,y.shape)\n",
    "dataset_eval(X,y)"
   ]
  },
  {
   "cell_type": "markdown",
   "metadata": {},
   "source": [
    "# Forest Covertype Data Set"
   ]
  },
  {
   "cell_type": "code",
   "execution_count": 22,
   "metadata": {},
   "outputs": [
    {
     "name": "stdout",
     "output_type": "stream",
     "text": [
      "[(2.0, 283301), (1.0, 211840), (3.0, 35754)]\n",
      "[[2.596e+03 5.100e+01 3.000e+00 ... 0.000e+00 0.000e+00 0.000e+00]\n",
      " [2.590e+03 5.600e+01 2.000e+00 ... 0.000e+00 0.000e+00 0.000e+00]\n",
      " [2.804e+03 1.390e+02 9.000e+00 ... 0.000e+00 0.000e+00 1.000e+00]\n",
      " ...\n",
      " [2.386e+03 1.590e+02 1.700e+01 ... 0.000e+00 0.000e+00 0.000e+00]\n",
      " [2.384e+03 1.700e+02 1.500e+01 ... 0.000e+00 0.000e+00 0.000e+00]\n",
      " [2.383e+03 1.650e+02 1.300e+01 ... 0.000e+00 0.000e+00 0.000e+00]]\n",
      "(581012, 55)\n",
      "[[-1.29780509 -0.93515698 -1.48281978 ...  0.          0.\n",
      "   0.        ]\n",
      " [-1.31923485 -0.89047967 -1.61636259 ...  0.          0.\n",
      "   0.        ]\n",
      " [-0.5549068  -0.14883628 -0.68156292 ...  0.          0.\n",
      "   1.        ]\n",
      " ...\n",
      " [-2.04784663  0.02987297  0.38677957 ...  0.          0.\n",
      "   0.        ]\n",
      " [-2.05498988  0.12816306  0.11969395 ...  0.          0.\n",
      "   0.        ]\n",
      " [-2.05856151  0.08348575 -0.14739167 ...  0.          0.\n",
      "   0.        ]]\n",
      "(5000, 54) (5000,)\n",
      "Dataset Split Size:  0.2 \n",
      " (4000, 54) (1000, 54) (4000,) (1000,)\n",
      "GaussianNB \n",
      " 0.605\n",
      "Cross Val Error:  \n",
      " [0.6375  0.61125 0.60125 0.60875 0.625  ]\n",
      "RandomForestClassifier \n",
      " 0.822\n",
      "Cross Val Error:  \n",
      " [0.83    0.805   0.80375 0.795   0.83125]\n",
      "DecisionTreeClassifier \n",
      " 0.745\n",
      "Cross Val Error:  \n",
      " [0.7325  0.71625 0.72    0.74125 0.74   ]\n",
      "Dataset Split Size:  0.5 \n",
      " (2500, 54) (2500, 54) (2500,) (2500,)\n",
      "GaussianNB \n",
      " 0.6204\n",
      "Cross Val Error:  \n",
      " [0.67265469 0.608      0.652      0.65       0.61923848]\n",
      "RandomForestClassifier \n",
      " 0.8016\n",
      "Cross Val Error:  \n",
      " [0.77644711 0.784      0.768      0.822      0.77955912]\n",
      "DecisionTreeClassifier \n",
      " 0.712\n",
      "Cross Val Error:  \n",
      " [0.68063872 0.704      0.688      0.714      0.71743487]\n",
      "Dataset Split Size:  0.8 \n",
      " (1000, 54) (4000, 54) (1000,) (4000,)\n",
      "GaussianNB \n",
      " 0.6775\n",
      "Cross Val Error:  \n",
      " [0.69154229 0.69       0.56       0.665      0.61306533]\n",
      "RandomForestClassifier \n",
      " 0.77175\n",
      "Cross Val Error:  \n",
      " [0.79104478 0.8        0.74       0.765      0.72361809]\n",
      "DecisionTreeClassifier \n",
      " 0.66875\n",
      "Cross Val Error:  \n",
      " [0.67164179 0.705      0.665      0.7        0.68844221]\n",
      "Finished Evaluating\n"
     ]
    }
   ],
   "source": [
    "from collections import Counter\n",
    "data = np.loadtxt('dataset/covtype.data', delimiter=',')\n",
    "covar_data.shape\n",
    "# Find the most common classes\n",
    "count = Counter(data[:,54])\n",
    "print(count.most_common(3))\n",
    "for i in range(len(data[:,54])):\n",
    "    if data[i,54] == 2:\n",
    "        data[i,54] = 1\n",
    "    else:\n",
    "        data[i,54] = 0\n",
    "print(data)\n",
    "print(data.shape)\n",
    "\n",
    "data_continuous = data[:,0:10]\n",
    "d_s = StandardScaler()\n",
    "d_n = d_s.fit_transform(data_continuous)\n",
    "\n",
    "X_and_Y = np.hstack([d_n, data[:,10:56]])\n",
    "print(X_and_Y)\n",
    "\n",
    "np.random.shuffle(X_and_Y)\n",
    "\n",
    "# Try to predict the last column (the cover type, which is 7 types)\n",
    "# NOTE: the largest number is \"positive\", while the other ones count as negative. This way it is a binary classification problem\n",
    "X = X_and_Y[:5000,0:-1]\n",
    "y = X_and_Y[:5000,-1]\n",
    "print(X.shape, y.shape)\n",
    "dataset_eval(X,y)"
   ]
  }
 ],
 "metadata": {
  "kernelspec": {
   "display_name": "Python 3",
   "language": "python",
   "name": "python3"
  },
  "language_info": {
   "codemirror_mode": {
    "name": "ipython",
    "version": 3
   },
   "file_extension": ".py",
   "mimetype": "text/x-python",
   "name": "python",
   "nbconvert_exporter": "python",
   "pygments_lexer": "ipython3",
   "version": "3.5.4"
  }
 },
 "nbformat": 4,
 "nbformat_minor": 2
}
