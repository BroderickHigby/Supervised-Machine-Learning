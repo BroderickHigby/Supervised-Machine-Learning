{
 "cells": [
  {
   "cell_type": "markdown",
   "metadata": {},
   "source": [
    "## Q1 Parabola"
   ]
  },
  {
   "cell_type": "markdown",
   "metadata": {},
   "source": [
    "### Original Data"
   ]
  },
  {
   "cell_type": "code",
   "execution_count": 1,
   "metadata": {},
   "outputs": [],
   "source": [
    "import numpy as np\n",
    "from numpy.linalg import inv\n",
    "from numpy import dot, hstack,ones, matrix, vstack\n",
    "import matplotlib.pyplot as plt\n",
    "\n",
    "X_and_Y = np.load('./hw4-q1-parabola.npy')\n",
    "X = X_and_Y[:, 0]  # Shape: (300,)\n",
    "Y = X_and_Y[:, 1]  # Shape: (300,)"
   ]
  },
  {
   "cell_type": "markdown",
   "metadata": {},
   "source": [
    "### 1.1 Parabola Estimation with L2 Norm "
   ]
  },
  {
   "cell_type": "code",
   "execution_count": 8,
   "metadata": {},
   "outputs": [
    {
     "name": "stdout",
     "output_type": "stream",
     "text": [
      "[-0.01051315  1.47218345  0.34181671]\n",
      "Y = -0.01 + 1.47*X + 0.34*X^2\n"
     ]
    }
   ],
   "source": [
    "X_squared = np.square(X)\n",
    "Xs = np.array([np.ones(len(X)), X, np.sq]).reshape((300,3))\n",
    "Xs_T = np.transpose(Xs)\n",
    "X_Xt = np.dot(Xs_T, Xs)\n",
    "W = np.dot(np.linalg.inv(X_Xt), np.dot(Xs_T, Y))\n",
    "print('Y = {:.2f} + {:.2f}*X + {:.2f}*X^2'.format(W[0], W[1], W[2]))         "
   ]
  },
  {
   "cell_type": "code",
   "execution_count": 10,
   "metadata": {},
   "outputs": [
    {
     "data": {
      "image/png": "[encoded data removed]",
      "text/plain": [
       "<matplotlib.figure.Figure at 0x119af8b70>"
      ]
     },
     "metadata": {},
     "output_type": "display_data"
    }
   ],
   "source": [
    "# x_parabola = (W[0] + dot(W[1], X[:,1]) + dot(W[2], X[:,2]))\n",
    "f, ax = plt.subplots()\n",
    "ax.scatter(X,Y, label='spots')\n",
    "ax.plot(X, W[0] + W[1]*X + W[2]*np.square(X), color = 'r', label = 'Estimated Parabola')\n",
    "plt.title(\"Single Variable Linear Regression\")\n",
    "plt.legend(loc = 'lower right')\n",
    "plt.show()"
   ]
  },
  {
   "cell_type": "markdown",
   "metadata": {},
   "source": [
    "### 1.2 Parabola Estimation with L1 Norm (Gradient Descent)"
   ]
  },
  {
   "cell_type": "code",
   "execution_count": null,
   "metadata": {},
   "outputs": [],
   "source": [
    "# 1.2A - Sign Derivative\n",
    "def calc_gradient_L1(Xs,W,Y):\n",
    "    inner_product = (np.dot(Xs,W) - Y)\n",
    "#     sign_product = (np.sign(inner_product))\n",
    "#     mtx_mult = (np.dot)\n",
    "    gradient_derivative = (np.dot((np.sign(inner_product)).T,X)).T\n",
    "    return gradient_derivative\n",
    "\n",
    "# 1.2B - Optimal W\n",
    "current_W = (0.0, 4.0, 1.0)\n",
    "learning_rate = 0.000001\n",
    "precision = 0.00001\n",
    "previous_stepsize = (1.0, 1.0, 1.0)\n",
    "max_iterations = 300000\n",
    "iterations = 0\n",
    "while max(previous_stepsize):\n",
    "    previous_W = current_W\n",
    "    current_W = previous_W - learning_rate * (calc_gradient_L1(Xs, previous_W, Y))\n",
    "    previous_stepsize = abs(current_W - previous_W)\n",
    "    iterations += 1\n",
    "print('Y = {:.2f} + {:.2f}*X + {:.2f}*X^2'.format(current_W[0], current_W[1], current_W[2]))         "
   ]
  },
  {
   "cell_type": "markdown",
   "metadata": {},
   "source": [
    "#### 1.2B - Gradient Descent Scatter Plot"
   ]
  },
  {
   "cell_type": "code",
   "execution_count": null,
   "metadata": {},
   "outputs": [],
   "source": [
    "# TODO: Plot the scatter graph of data and estimated plane\n",
    "# TODO: Plot the a scatter graph of data.\n",
    "x_parabola = (current_W[0] + dot(current_W[1], Xs[1]) + dot(w2,Xs[2]))\n",
    "plt.scatter(X,Y, color='b', label='X and Y points')\n",
    "plt.plot(X, x_parabola, 'r', label='Least Square Line')\n",
    "plt.title(\"Single Variable Linear Regression\")\n",
    "plt.legend(loc = 'lower right')\n",
    "plt.show()"
   ]
  },
  {
   "cell_type": "markdown",
   "metadata": {},
   "source": [
    "### 1.3 Parabola Estimation with L1 and L2 Norm (Gradient Descent)"
   ]
  },
  {
   "cell_type": "code",
   "execution_count": null,
   "metadata": {},
   "outputs": [],
   "source": [
    "def calc_gradient_L2(Xs,W,Y):\n",
    "    X_t = np.transpose(Xs)\n",
    "    gradient = 2*np.dot(X_t, (np.dot(Xs, W) - Y))\n",
    "    \n",
    "def calc_gradient_L1_and_L2(alpha, Xs, W, Y):\n",
    "    L2 = calc_gradient_L2(Xs * alpha, W, Y)\n",
    "    L1 = calc_gradient_L1((1 - alpha) * Xs, W, Y)\n",
    "    gradient = L1 + L2\n",
    "    return gradient\n",
    "\n",
    "initial_W = (0.0, 4.0, 1.0)\n",
    "current_W_with_L1_and_L2 = [initial_W, initial_W, initial_W]\n",
    "learning_rate = 0.000001\n",
    "precision = 0.00001\n",
    "max_iterations = 300000\n",
    "alpha = (0.3, 0.5, 0.6)\n",
    "for i in range(3):\n",
    "    previous_stepsize = (1.0, 1.0, 1.0)\n",
    "    previous_W = current_W_with_L1_and_L2[i]\n",
    "    current_W_with_L1_and_L2[i] = previous_W - learning_rate *(calc_gradient_L1_and_L2(alpha[i], Xs, previous_W, Y))\n",
    "    previous_stepsize = abs(current_W_with_L1_and_L2[i] - previous_W)\n",
    "    iterations += 1\n",
    "    \n",
    "print(iterations)\n",
    "print('Y = {:.2f} + {:.2f}*X + {:.2f}*X^2'.format(current_W_with_L1_and_L2[i][0], \n",
    "                                                  current_W_with_L1_and_L2[i][1], \n",
    "                                                  current_W_with_L1_and_L2[i][2])) "
   ]
  },
  {
   "cell_type": "markdown",
   "metadata": {},
   "source": [
    "### 1.4 Comparison (Visualization)"
   ]
  },
  {
   "cell_type": "code",
   "execution_count": null,
   "metadata": {},
   "outputs": [],
   "source": []
  },
  {
   "cell_type": "markdown",
   "metadata": {},
   "source": [
    "## Q4 Logistic Regression"
   ]
  },
  {
   "cell_type": "markdown",
   "metadata": {},
   "source": [
    "### Original Data"
   ]
  },
  {
   "cell_type": "code",
   "execution_count": null,
   "metadata": {},
   "outputs": [],
   "source": [
    "import numpy as np\n",
    "from tqdm import *\n",
    "import matplotlib.pyplot as plt\n",
    "from sklearn.utils import shuffle\n",
    "from sklearn.preprocessing import LabelEncoder\n",
    "%matplotlib inline\n",
    "\n",
    "# ---- set the figure size\n",
    "plt.rcParams['figure.figsize'] = 8,8\n",
    "\n",
    "# ---- load the data Q3_data.txt\n",
    "file_path = 'Q4_data.txt'\n",
    "\n",
    "data = np.genfromtxt(file_path,dtype=\"f8,f8,f8,f8,S20\",\n",
    "delimiter=',',names=['x1','x2','x3','x4','class'])\n",
    "\n",
    "# ---- split the data points into the training set and test set\n",
    "train_data = np.concatenate((data[15:50],data[65:]))\n",
    "test_data = np.concatenate((data[:15],data[50:65]))\n",
    "X_train = np.vstack([np.array((1,x[0],x[1],x[2],x[3])) for x in train_data])\n",
    "X_test = np.vstack([np.array((1,x[0],x[1],x[2],x[3])) for x in test_data])\n",
    "num_train = len(X_train)\n",
    "num_test = len(X_test)\n",
    "\n",
    "print(\"number of training data is \"+str(num_train))\n",
    "print(\"number of testing data is \"+str(num_test))\n",
    "\n",
    "# ---- convert the class names into categorical labels.\n",
    "le = LabelEncoder()\n",
    "le.fit(data['class'])\n",
    "y_train = le.transform(train_data['class']).reshape(num_train,1)\n",
    "y_test = le.transform(test_data['class']).reshape(num_test,1)\n",
    "\n",
    "# ---- initialize the weights and bias to 0\n",
    "# ---- we absorb the bias into the weights\n",
    "w = np.zeros((5,1))\n",
    "n_iter = 1000\n",
    "alpha = 0.01\n",
    "train_err = []"
   ]
  },
  {
   "cell_type": "markdown",
   "metadata": {},
   "source": [
    "### 4.2 Training with Training curve.\n",
    "\n",
    "gradient descent - train a binary classifier based on logistic regression. Vectorize "
   ]
  },
  {
   "cell_type": "code",
   "execution_count": null,
   "metadata": {},
   "outputs": [],
   "source": [
    "def sigmoid(x):\n",
    "    if x >= 0:\n",
    "        z = np.exp(-x)\n",
    "        return 1/ (1+z)\n",
    "    else:\n",
    "        z = np.exp(x)\n",
    "        return z/(1+z)\n",
    "\n",
    "def logistic_pos_prob(Xi, W):\n",
    "    WX = np.dot(W, Xi)\n",
    "    return sigmoid(WX)\n",
    "\n",
    "def logistic_deriv_per_data(Yi, Xi, W, J):\n",
    "    derivative_loss = -(Yi - logistic_pos_prob(Xi, a))*Xi[j]\n",
    "    return derivative_loss\n",
    "\n",
    "def logistic_partial_derivative(y, x, a, j):\n",
    "    loss_der = 0\n",
    "    for i in range(len(y)):\n",
    "        temp_loss_der = logistic_derivative_per_datapoint(y[i], x[i], a, j)\n",
    "        loss_der += temp_loss_der \n",
    "    return loss_der\n",
    "\n",
    "def compute_logistic_gradient(a, y, x):\n",
    "    partial_der_of_a = []\n",
    "    for j in range(len(a)):\n",
    "        temp_partial = logistic_partial_derivative(y,x,a,j)\n",
    "        partial_der_of_a.append(temp_partial)\n",
    "    return np.array(partial_der_of_a)\n",
    "\n",
    "def gradient_update(a, lr, gradient):\n",
    "    # What is the current time step\n",
    "    a_new = a - lr * (gradient) \n",
    "    return a_new\n",
    "\n",
    "def gradient_descent_logistic(initial_a, lr, num_iterations, y, x):\n",
    "    optimal_a = initial_a\n",
    "    for i in range(num_iterations):\n",
    "        current_gradient = compute_logistic_gradient(optimal_a, y, x)\n",
    "        optimal_a = gradient_update(optimal_a ,lr ,current_gradient)\n",
    "    return optimal_a\n",
    "    \n",
    "plt.scatter(X_test, Y_test, c=Y_train)"
   ]
  },
  {
   "cell_type": "markdown",
   "metadata": {},
   "source": [
    "### 4.3 Decision Boundary (Equation & Plot)"
   ]
  },
  {
   "cell_type": "code",
   "execution_count": null,
   "metadata": {},
   "outputs": [],
   "source": []
  },
  {
   "cell_type": "markdown",
   "metadata": {},
   "source": [
    "### 4.4 Test (Report Accuracy)"
   ]
  },
  {
   "cell_type": "code",
   "execution_count": null,
   "metadata": {},
   "outputs": [],
   "source": []
  },
  {
   "cell_type": "markdown",
   "metadata": {},
   "source": []
  },
  {
   "cell_type": "code",
   "execution_count": null,
   "metadata": {},
   "outputs": [],
   "source": []
  },
  {
   "cell_type": "code",
   "execution_count": null,
   "metadata": {},
   "outputs": [],
   "source": []
  }
 ],
 "metadata": {
  "kernelspec": {
   "display_name": "Python 3",
   "language": "python",
   "name": "python3"
  },
  "language_info": {
   "codemirror_mode": {
    "name": "ipython",
    "version": 3
   },
   "file_extension": ".py",
   "mimetype": "text/x-python",
   "name": "python",
   "nbconvert_exporter": "python",
   "pygments_lexer": "ipython3",
   "version": "3.5.4"
  }
 },
 "nbformat": 4,
 "nbformat_minor": 2
}
