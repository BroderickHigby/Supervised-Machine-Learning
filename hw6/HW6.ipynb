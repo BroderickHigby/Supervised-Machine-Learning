{
 "cells": [
  {
   "cell_type": "markdown",
   "metadata": {},
   "source": [
    "## 5 Decision Tree"
   ]
  },
  {
   "cell_type": "code",
   "execution_count": 1,
   "metadata": {},
   "outputs": [],
   "source": [
    "import scipy.io as sio\n",
    "import matplotlib.pyplot as plt\n",
    "import numpy as np\n",
    "import seaborn as sns\n",
    "from sklearn import tree\n",
    "from sklearn.model_selection import GridSearchCV\n",
    "%config InlineBackend.figure_format = 'retina'"
   ]
  },
  {
   "cell_type": "code",
   "execution_count": 2,
   "metadata": {},
   "outputs": [
    {
     "name": "stdout",
     "output_type": "stream",
     "text": [
      "(351, 34) (351,)\n"
     ]
    }
   ],
   "source": [
    "# 1) Load data.\n",
    "\n",
    "X_and_Y = np.load('ionosphere.npy').astype(np.float32) # Load data from file.\n",
    "np.random.shuffle(X_and_Y)   # Shuffle the data.\n",
    "X = X_and_Y[:, 0:-1]         # First column to second last column: Features (numerical values) \n",
    "Y = X_and_Y[:, -1]           # Last column: Labels (0 or 1)\n",
    "print(X.shape, Y.shape)      # Check the shapes."
   ]
  },
  {
   "cell_type": "code",
   "execution_count": 3,
   "metadata": {},
   "outputs": [
    {
     "name": "stdout",
     "output_type": "stream",
     "text": [
      "(280, 34) (71, 34) (280,) (71,)\n"
     ]
    }
   ],
   "source": [
    "# 2) Split the dataset into 2 parts: \n",
    "#    (a) Training set + Validation set  (80% of all data points)\n",
    "#    (b) Test set                       (20% of all data points)\n",
    "\n",
    "X_train_val = X[:int(0.8*len(X))] # Get features from train + val set.\n",
    "X_test      = X[int(0.8*len(X)):] # Get features from test set.     \n",
    "Y_train_val = Y[:int(0.8*len(Y))] # Get labels from train + val set.\n",
    "Y_test      = Y[int(0.8*len(Y)):] # Get labels from test set.\n",
    "print(X_train_val.shape, X_test.shape, Y_train_val.shape, Y_test.shape)"
   ]
  },
  {
   "cell_type": "code",
   "execution_count": null,
   "metadata": {},
   "outputs": [],
   "source": [
    "# 3) Perform grid search for best D using sklearn\n",
    "\n",
    "#######FILL IN HERE #########\n"
   ]
  },
  {
   "cell_type": "code",
   "execution_count": null,
   "metadata": {},
   "outputs": [],
   "source": [
    "# 4) Draw heatmaps for result of grid search and find \n",
    "#    optimal D for validation set.\n",
    "def draw_heatmap_linear(acc, acc_desc, depth_list):\n",
    "    plt.figure(figsize = (2,4))\n",
    "    ax = sns.heatmap(acc, annot=True, fmt='.3f', yticklabels=depth_list, xticklabels=[])\n",
    "    ax.collections[0].colorbar.set_label(\"accuracy\")\n",
    "    ax.set(ylabel='depth')\n",
    "    plt.title(acc_desc + ' w.r.t depth')\n",
    "    sns.set_style(\"whitegrid\", {'axes.grid' : False})\n",
    "    plt.show()\n",
    "    \n",
    "    \n",
    "#######FILL IN HERE #########   "
   ]
  },
  {
   "cell_type": "code",
   "execution_count": null,
   "metadata": {},
   "outputs": [],
   "source": [
    "# 5) Use the optimal D to calculate the test accuracy.\n",
    "\n",
    "#######FILL IN HERE #########"
   ]
  },
  {
   "cell_type": "markdown",
   "metadata": {},
   "source": [
    "## 6 K-Nearest Neighbors"
   ]
  },
  {
   "cell_type": "code",
   "execution_count": null,
   "metadata": {},
   "outputs": [],
   "source": [
    "# 1) Load data.\n",
    "\n",
    "X_and_Y = np.load('ionosphere.npy').astype(np.float32) # Load data from file.\n",
    "np.random.seed(0)\n",
    "np.random.shuffle(X_and_Y)   # Shuffle the data.\n",
    "X = X_and_Y[:, 0:-1]         # First column to second last column: Features (numerical values) \n",
    "Y = X_and_Y[:, -1]           # Last column: Labels (0 or 1)\n",
    "print(X.shape, Y.shape)      # Check the shapes."
   ]
  },
  {
   "cell_type": "code",
   "execution_count": null,
   "metadata": {},
   "outputs": [],
   "source": [
    "# 2) Split the dataset into 2 parts: \n",
    "#    (a) Training set + Validation set  (80% of all data points)\n",
    "#    (b) Test set                       (20% of all data points)\n",
    "\n",
    "X_train_val = X[:int(0.8*len(X))] # Get features from train + val set.\n",
    "X_test      = X[int(0.8*len(X)):] # Get features from test set.     \n",
    "Y_train_val = Y[:int(0.8*len(Y))] # Get labels from train + val set.\n",
    "Y_test      = Y[int(0.8*len(Y)):] # Get labels from test set.  \n",
    "print(X_train_val.shape, X_test.shape, Y_train_val.shape, Y_test.shape)"
   ]
  },
  {
   "cell_type": "code",
   "execution_count": null,
   "metadata": {},
   "outputs": [],
   "source": [
    "# 3) Implement the k-NN.\n",
    "class simple_KNeighborsClassifier(object):\n",
    "    def __init__(self, k):\n",
    "        \"\"\"\n",
    "        k-NN initialization.\n",
    "            k: Number of nearest neighbors.\n",
    "        \"\"\"\n",
    "        self.k = k\n",
    "        \n",
    "    def fit(self, X_train, Y_train):\n",
    "        \"\"\"\n",
    "        k-NN fitting function.\n",
    "            X_train: Feature vectors in training set.\n",
    "            Y_train: Labels in training set.\n",
    "        \"\"\"\n",
    "        self.X_train = X_train\n",
    "        self.Y_train = Y_train\n",
    "        \n",
    "    def predict(self, X_pred):\n",
    "        \"\"\"\n",
    "        k-NN prediction function.\n",
    "            X_pred: Feature vectors in training set.\n",
    "        Return the predicted labels for X_pred. Shape: (len(X_pred), )\n",
    "        \"\"\"\n",
    "        Y_pred = []\n",
    "        \n",
    "        #######FILL IN HERE #########\n",
    "        \n",
    "        return np.array(Y_pred)"
   ]
  },
  {
   "cell_type": "code",
   "execution_count": null,
   "metadata": {},
   "outputs": [],
   "source": [
    "# 4) Implement the cross-validation.\n",
    "def simple_cross_validation(X_train_val, Y_train_val, k, fold):\n",
    "    \"\"\"\n",
    "    A simple cross-validation function for k-NN.\n",
    "    \n",
    "    X_train_val: Features for train and val set. \n",
    "                 Shape: (num of data points, num of features)\n",
    "    Y_train_val: Labels for train and val set.\n",
    "                 Shape: (num of data points,)\n",
    "    k:           Parameter k for k-NN.\n",
    "    fold:        The number of folds to do the cross-validation.\n",
    "    \n",
    "    Return the average accuracy on validation set.\n",
    "    \"\"\"\n",
    "    val_acc_list = []\n",
    "    train_acc_list = []\n",
    "    for i in range(fold):\n",
    "        #######FILL IN HERE #########\n",
    "        \n",
    "    return sum(val_acc_list) / len(val_acc_list), \\\n",
    "           sum(train_acc_list) / len(train_acc_list)"
   ]
  },
  {
   "cell_type": "code",
   "execution_count": null,
   "metadata": {},
   "outputs": [],
   "source": [
    "# 5) Implement the grid search function.\n",
    "\n",
    "def simple_GridSearchCV_fit(X_train_val, Y_train_val, k_list, fold):\n",
    "    \"\"\"\n",
    "    A simple grid search function for k with cross-validation in k-NN.\n",
    "    \n",
    "    X_train_val: Features for train and val set. \n",
    "                 Shape: (num of data points, num of features)\n",
    "    Y_train_val: Labels for train and val set.\n",
    "                 Shape: (num of data points,)\n",
    "    k_list:      The list of k values to try.\n",
    "    fold:        The number of folds to do the cross-validation.\n",
    "    \n",
    "    Return the val and train accuracy matrix of cross-validation. \n",
    "    All combinations of k are included in the array. \n",
    "    Shape: (len(k_list), )\n",
    "    \"\"\"\n",
    "    val_acc_array = np.zeros(len(k_list))\n",
    "    train_acc_array = np.zeros(len(k_list))\n",
    "    for i in range(len(k_list)):\n",
    "        val_acc_array[i], train_acc_array[i] = simple_cross_validation(\n",
    "            X_train_val, Y_train_val, k_list[i], fold)\n",
    "    return val_acc_array, train_acc_array"
   ]
  },
  {
   "cell_type": "code",
   "execution_count": null,
   "metadata": {},
   "outputs": [],
   "source": [
    "# 6) Perform grid search.\n",
    "\n",
    "k_list = [1,2,3,4,5,6]\n",
    "val_acc_array, train_acc_array = simple_GridSearchCV_fit(X_train_val, Y_train_val, k_list, 3)"
   ]
  },
  {
   "cell_type": "code",
   "execution_count": null,
   "metadata": {},
   "outputs": [],
   "source": [
    "# 7) Draw heatmaps for result of grid search and find \n",
    "#    best k on validation set.\n",
    "\n",
    "def draw_heatmap_knn(acc, acc_desc, k_list):\n",
    "    plt.figure(figsize = (2,4))\n",
    "    ax = sns.heatmap(acc, annot=True, fmt='.3f', yticklabels=k_list, xticklabels=[])\n",
    "    ax.collections[0].colorbar.set_label(\"accuracy\")\n",
    "    ax.set(ylabel='$k$')\n",
    "    plt.title(acc_desc + ' w.r.t $k$')\n",
    "    sns.set_style(\"whitegrid\", {'axes.grid' : False})\n",
    "    plt.show()\n",
    "\n",
    "#######FILL IN HERE #########\n",
    "\n",
    "# Hint:\n",
    "# You can use the draw_heatmap_knn() to draw a heatmap to visualize \n",
    "# the accuracy w.r.t. k. Some demo code is given below as hint:\n",
    "#\n",
    "# demo_acc        = np.array([[0.8],[0.7]])\n",
    "# demo_k_list     = [1, 2]\n",
    "# draw_heatmap_linear(demo_acc, 'demo accuracy', demo_k_list)\n",
    "#"
   ]
  },
  {
   "cell_type": "code",
   "execution_count": null,
   "metadata": {},
   "outputs": [],
   "source": [
    "# 8) Use the best k to calculate the test accuracy.\n",
    "\n",
    "#######FILL IN HERE #########"
   ]
  },
  {
   "cell_type": "markdown",
   "metadata": {},
   "source": [
    "## 7 (Bonus) SVM"
   ]
  },
  {
   "cell_type": "code",
   "execution_count": null,
   "metadata": {},
   "outputs": [],
   "source": []
  }
 ],
 "metadata": {
  "kernelspec": {
   "display_name": "Python 3",
   "language": "python",
   "name": "python3"
  },
  "language_info": {
   "codemirror_mode": {
    "name": "ipython",
    "version": 3
   },
   "file_extension": ".py",
   "mimetype": "text/x-python",
   "name": "python",
   "nbconvert_exporter": "python",
   "pygments_lexer": "ipython3",
   "version": "3.5.4"
  }
 },
 "nbformat": 4,
 "nbformat_minor": 2
}
